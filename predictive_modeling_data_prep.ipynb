{
 "cells": [
  {
   "cell_type": "markdown",
   "id": "2a61cdd4fcf34165",
   "metadata": {
    "collapsed": false
   },
   "source": [
    "# Data Preparation "
   ]
  },
  {
   "cell_type": "code",
   "execution_count": 16,
   "outputs": [],
   "source": [
    "# Importing libraries\n",
    "\n",
    "import numpy as np\n",
    "import pandas as pd\n",
    "from sklearn.preprocessing import OneHotEncoder\n",
    "from sklearn.preprocessing import StandardScaler\n",
    "import seaborn as sns"
   ],
   "metadata": {
    "collapsed": false,
    "ExecuteTime": {
     "end_time": "2024-12-07T18:25:53.521435100Z",
     "start_time": "2024-12-07T18:25:53.465914600Z"
    }
   },
   "id": "initial_id"
  },
  {
   "cell_type": "code",
   "execution_count": 17,
   "outputs": [
    {
     "data": {
      "text/plain": "   Store        Date  Temperature  Fuel_Price  MarkDown1  MarkDown2  \\\n0      1  2010-02-05        42.31       2.572        NaN        NaN   \n1      1  2010-02-05        42.31       2.572        NaN        NaN   \n2      1  2010-02-05        42.31       2.572        NaN        NaN   \n3      1  2010-02-05        42.31       2.572        NaN        NaN   \n4      1  2010-02-05        42.31       2.572        NaN        NaN   \n\n   MarkDown3  MarkDown4  MarkDown5         CPI  Unemployment  IsHoliday  Dept  \\\n0        NaN        NaN        NaN  211.096358         8.106      False     1   \n1        NaN        NaN        NaN  211.096358         8.106      False     2   \n2        NaN        NaN        NaN  211.096358         8.106      False     3   \n3        NaN        NaN        NaN  211.096358         8.106      False     4   \n4        NaN        NaN        NaN  211.096358         8.106      False     5   \n\n   Weekly_Sales Store_Type  Store_Size  \n0      24924.50          A      151315  \n1      50605.27          A      151315  \n2      13740.12          A      151315  \n3      39954.04          A      151315  \n4      32229.38          A      151315  ",
      "text/html": "<div>\n<style scoped>\n    .dataframe tbody tr th:only-of-type {\n        vertical-align: middle;\n    }\n\n    .dataframe tbody tr th {\n        vertical-align: top;\n    }\n\n    .dataframe thead th {\n        text-align: right;\n    }\n</style>\n<table border=\"1\" class=\"dataframe\">\n  <thead>\n    <tr style=\"text-align: right;\">\n      <th></th>\n      <th>Store</th>\n      <th>Date</th>\n      <th>Temperature</th>\n      <th>Fuel_Price</th>\n      <th>MarkDown1</th>\n      <th>MarkDown2</th>\n      <th>MarkDown3</th>\n      <th>MarkDown4</th>\n      <th>MarkDown5</th>\n      <th>CPI</th>\n      <th>Unemployment</th>\n      <th>IsHoliday</th>\n      <th>Dept</th>\n      <th>Weekly_Sales</th>\n      <th>Store_Type</th>\n      <th>Store_Size</th>\n    </tr>\n  </thead>\n  <tbody>\n    <tr>\n      <th>0</th>\n      <td>1</td>\n      <td>2010-02-05</td>\n      <td>42.31</td>\n      <td>2.572</td>\n      <td>NaN</td>\n      <td>NaN</td>\n      <td>NaN</td>\n      <td>NaN</td>\n      <td>NaN</td>\n      <td>211.096358</td>\n      <td>8.106</td>\n      <td>False</td>\n      <td>1</td>\n      <td>24924.50</td>\n      <td>A</td>\n      <td>151315</td>\n    </tr>\n    <tr>\n      <th>1</th>\n      <td>1</td>\n      <td>2010-02-05</td>\n      <td>42.31</td>\n      <td>2.572</td>\n      <td>NaN</td>\n      <td>NaN</td>\n      <td>NaN</td>\n      <td>NaN</td>\n      <td>NaN</td>\n      <td>211.096358</td>\n      <td>8.106</td>\n      <td>False</td>\n      <td>2</td>\n      <td>50605.27</td>\n      <td>A</td>\n      <td>151315</td>\n    </tr>\n    <tr>\n      <th>2</th>\n      <td>1</td>\n      <td>2010-02-05</td>\n      <td>42.31</td>\n      <td>2.572</td>\n      <td>NaN</td>\n      <td>NaN</td>\n      <td>NaN</td>\n      <td>NaN</td>\n      <td>NaN</td>\n      <td>211.096358</td>\n      <td>8.106</td>\n      <td>False</td>\n      <td>3</td>\n      <td>13740.12</td>\n      <td>A</td>\n      <td>151315</td>\n    </tr>\n    <tr>\n      <th>3</th>\n      <td>1</td>\n      <td>2010-02-05</td>\n      <td>42.31</td>\n      <td>2.572</td>\n      <td>NaN</td>\n      <td>NaN</td>\n      <td>NaN</td>\n      <td>NaN</td>\n      <td>NaN</td>\n      <td>211.096358</td>\n      <td>8.106</td>\n      <td>False</td>\n      <td>4</td>\n      <td>39954.04</td>\n      <td>A</td>\n      <td>151315</td>\n    </tr>\n    <tr>\n      <th>4</th>\n      <td>1</td>\n      <td>2010-02-05</td>\n      <td>42.31</td>\n      <td>2.572</td>\n      <td>NaN</td>\n      <td>NaN</td>\n      <td>NaN</td>\n      <td>NaN</td>\n      <td>NaN</td>\n      <td>211.096358</td>\n      <td>8.106</td>\n      <td>False</td>\n      <td>5</td>\n      <td>32229.38</td>\n      <td>A</td>\n      <td>151315</td>\n    </tr>\n  </tbody>\n</table>\n</div>"
     },
     "execution_count": 17,
     "metadata": {},
     "output_type": "execute_result"
    }
   ],
   "source": [
    "# Load dataset\n",
    "df = pd.read_csv(\"data/preprocessed/main.csv\")\n",
    "df.head()"
   ],
   "metadata": {
    "collapsed": false,
    "ExecuteTime": {
     "end_time": "2024-12-07T18:25:53.789955Z",
     "start_time": "2024-12-07T18:25:53.469434700Z"
    }
   },
   "id": "1414a90c55c70360"
  },
  {
   "cell_type": "code",
   "execution_count": 18,
   "outputs": [
    {
     "name": "stdout",
     "output_type": "stream",
     "text": [
      "   Store        Date  Temperature  Fuel_Price         CPI  Unemployment  \\\n",
      "0      1  2010-02-05        42.31       2.572  211.096358         8.106   \n",
      "1      1  2010-02-05        42.31       2.572  211.096358         8.106   \n",
      "2      1  2010-02-05        42.31       2.572  211.096358         8.106   \n",
      "3      1  2010-02-05        42.31       2.572  211.096358         8.106   \n",
      "4      1  2010-02-05        42.31       2.572  211.096358         8.106   \n",
      "\n",
      "   IsHoliday  Dept  Weekly_Sales Store_Type  Store_Size  \n",
      "0      False     1      24924.50          A      151315  \n",
      "1      False     2      50605.27          A      151315  \n",
      "2      False     3      13740.12          A      151315  \n",
      "3      False     4      39954.04          A      151315  \n",
      "4      False     5      32229.38          A      151315  \n"
     ]
    }
   ],
   "source": [
    "# # Remove all MarkDown columns (Excluded from the analysis)\n",
    "markdown_columns = ['MarkDown1', 'MarkDown2', 'MarkDown3', 'MarkDown4', 'MarkDown5']\n",
    "df = df.drop(columns=markdown_columns)\n",
    "print(df.head())"
   ],
   "metadata": {
    "collapsed": false,
    "ExecuteTime": {
     "end_time": "2024-12-07T18:25:53.805014100Z",
     "start_time": "2024-12-07T18:25:53.788952100Z"
    }
   },
   "id": "d12543e62766049"
  },
  {
   "cell_type": "markdown",
   "source": [
    "# Feature Engineering"
   ],
   "metadata": {
    "collapsed": false
   },
   "id": "ae22444986608808"
  },
  {
   "cell_type": "markdown",
   "source": [
    "### Transform Temporal Data\n",
    "- Create Date-Based Features"
   ],
   "metadata": {
    "collapsed": false
   },
   "id": "178b0a2fe835d4a3"
  },
  {
   "cell_type": "code",
   "execution_count": 19,
   "outputs": [
    {
     "data": {
      "text/plain": "   Store  Temperature  Fuel_Price         CPI  Unemployment  IsHoliday  Dept  \\\n0      1        42.31       2.572  211.096358         8.106      False     1   \n1      1        42.31       2.572  211.096358         8.106      False     2   \n2      1        42.31       2.572  211.096358         8.106      False     3   \n3      1        42.31       2.572  211.096358         8.106      False     4   \n4      1        42.31       2.572  211.096358         8.106      False     5   \n\n   Weekly_Sales Store_Type  Store_Size  Month  Day  Week  \n0      24924.50          A      151315      2    5     5  \n1      50605.27          A      151315      2    5     5  \n2      13740.12          A      151315      2    5     5  \n3      39954.04          A      151315      2    5     5  \n4      32229.38          A      151315      2    5     5  ",
      "text/html": "<div>\n<style scoped>\n    .dataframe tbody tr th:only-of-type {\n        vertical-align: middle;\n    }\n\n    .dataframe tbody tr th {\n        vertical-align: top;\n    }\n\n    .dataframe thead th {\n        text-align: right;\n    }\n</style>\n<table border=\"1\" class=\"dataframe\">\n  <thead>\n    <tr style=\"text-align: right;\">\n      <th></th>\n      <th>Store</th>\n      <th>Temperature</th>\n      <th>Fuel_Price</th>\n      <th>CPI</th>\n      <th>Unemployment</th>\n      <th>IsHoliday</th>\n      <th>Dept</th>\n      <th>Weekly_Sales</th>\n      <th>Store_Type</th>\n      <th>Store_Size</th>\n      <th>Month</th>\n      <th>Day</th>\n      <th>Week</th>\n    </tr>\n  </thead>\n  <tbody>\n    <tr>\n      <th>0</th>\n      <td>1</td>\n      <td>42.31</td>\n      <td>2.572</td>\n      <td>211.096358</td>\n      <td>8.106</td>\n      <td>False</td>\n      <td>1</td>\n      <td>24924.50</td>\n      <td>A</td>\n      <td>151315</td>\n      <td>2</td>\n      <td>5</td>\n      <td>5</td>\n    </tr>\n    <tr>\n      <th>1</th>\n      <td>1</td>\n      <td>42.31</td>\n      <td>2.572</td>\n      <td>211.096358</td>\n      <td>8.106</td>\n      <td>False</td>\n      <td>2</td>\n      <td>50605.27</td>\n      <td>A</td>\n      <td>151315</td>\n      <td>2</td>\n      <td>5</td>\n      <td>5</td>\n    </tr>\n    <tr>\n      <th>2</th>\n      <td>1</td>\n      <td>42.31</td>\n      <td>2.572</td>\n      <td>211.096358</td>\n      <td>8.106</td>\n      <td>False</td>\n      <td>3</td>\n      <td>13740.12</td>\n      <td>A</td>\n      <td>151315</td>\n      <td>2</td>\n      <td>5</td>\n      <td>5</td>\n    </tr>\n    <tr>\n      <th>3</th>\n      <td>1</td>\n      <td>42.31</td>\n      <td>2.572</td>\n      <td>211.096358</td>\n      <td>8.106</td>\n      <td>False</td>\n      <td>4</td>\n      <td>39954.04</td>\n      <td>A</td>\n      <td>151315</td>\n      <td>2</td>\n      <td>5</td>\n      <td>5</td>\n    </tr>\n    <tr>\n      <th>4</th>\n      <td>1</td>\n      <td>42.31</td>\n      <td>2.572</td>\n      <td>211.096358</td>\n      <td>8.106</td>\n      <td>False</td>\n      <td>5</td>\n      <td>32229.38</td>\n      <td>A</td>\n      <td>151315</td>\n      <td>2</td>\n      <td>5</td>\n      <td>5</td>\n    </tr>\n  </tbody>\n</table>\n</div>"
     },
     "execution_count": 19,
     "metadata": {},
     "output_type": "execute_result"
    }
   ],
   "source": [
    "df['Month'] = pd.to_datetime(df['Date']).dt.month\n",
    "df['Day'] = pd.to_datetime(df['Date']).dt.day\n",
    "df['Week'] = pd.to_datetime(df['Date']).dt.isocalendar().week\n",
    "df = df.drop(columns=['Date'])  # Drop the original date column\n",
    "df.head()"
   ],
   "metadata": {
    "collapsed": false,
    "ExecuteTime": {
     "end_time": "2024-12-07T18:25:53.945653400Z",
     "start_time": "2024-12-07T18:25:53.805014100Z"
    }
   },
   "id": "99de291113072015"
  },
  {
   "cell_type": "markdown",
   "source": [
    "### Encode Categorical Variables\n",
    "Encoding categorical variables using One-Hot Encoding"
   ],
   "metadata": {
    "collapsed": false
   },
   "id": "78b8a6b268151120"
  },
  {
   "cell_type": "code",
   "execution_count": 20,
   "outputs": [
    {
     "data": {
      "text/plain": "   Store  Temperature  Fuel_Price         CPI  Unemployment  IsHoliday  Dept  \\\n0      1        42.31       2.572  211.096358         8.106      False     1   \n1      1        42.31       2.572  211.096358         8.106      False     2   \n2      1        42.31       2.572  211.096358         8.106      False     3   \n3      1        42.31       2.572  211.096358         8.106      False     4   \n4      1        42.31       2.572  211.096358         8.106      False     5   \n\n   Weekly_Sales  Store_Size  Month  Day  Week  Store_Type_A  Store_Type_B  \\\n0      24924.50      151315      2    5     5          True         False   \n1      50605.27      151315      2    5     5          True         False   \n2      13740.12      151315      2    5     5          True         False   \n3      39954.04      151315      2    5     5          True         False   \n4      32229.38      151315      2    5     5          True         False   \n\n   Store_Type_C  \n0         False  \n1         False  \n2         False  \n3         False  \n4         False  ",
      "text/html": "<div>\n<style scoped>\n    .dataframe tbody tr th:only-of-type {\n        vertical-align: middle;\n    }\n\n    .dataframe tbody tr th {\n        vertical-align: top;\n    }\n\n    .dataframe thead th {\n        text-align: right;\n    }\n</style>\n<table border=\"1\" class=\"dataframe\">\n  <thead>\n    <tr style=\"text-align: right;\">\n      <th></th>\n      <th>Store</th>\n      <th>Temperature</th>\n      <th>Fuel_Price</th>\n      <th>CPI</th>\n      <th>Unemployment</th>\n      <th>IsHoliday</th>\n      <th>Dept</th>\n      <th>Weekly_Sales</th>\n      <th>Store_Size</th>\n      <th>Month</th>\n      <th>Day</th>\n      <th>Week</th>\n      <th>Store_Type_A</th>\n      <th>Store_Type_B</th>\n      <th>Store_Type_C</th>\n    </tr>\n  </thead>\n  <tbody>\n    <tr>\n      <th>0</th>\n      <td>1</td>\n      <td>42.31</td>\n      <td>2.572</td>\n      <td>211.096358</td>\n      <td>8.106</td>\n      <td>False</td>\n      <td>1</td>\n      <td>24924.50</td>\n      <td>151315</td>\n      <td>2</td>\n      <td>5</td>\n      <td>5</td>\n      <td>True</td>\n      <td>False</td>\n      <td>False</td>\n    </tr>\n    <tr>\n      <th>1</th>\n      <td>1</td>\n      <td>42.31</td>\n      <td>2.572</td>\n      <td>211.096358</td>\n      <td>8.106</td>\n      <td>False</td>\n      <td>2</td>\n      <td>50605.27</td>\n      <td>151315</td>\n      <td>2</td>\n      <td>5</td>\n      <td>5</td>\n      <td>True</td>\n      <td>False</td>\n      <td>False</td>\n    </tr>\n    <tr>\n      <th>2</th>\n      <td>1</td>\n      <td>42.31</td>\n      <td>2.572</td>\n      <td>211.096358</td>\n      <td>8.106</td>\n      <td>False</td>\n      <td>3</td>\n      <td>13740.12</td>\n      <td>151315</td>\n      <td>2</td>\n      <td>5</td>\n      <td>5</td>\n      <td>True</td>\n      <td>False</td>\n      <td>False</td>\n    </tr>\n    <tr>\n      <th>3</th>\n      <td>1</td>\n      <td>42.31</td>\n      <td>2.572</td>\n      <td>211.096358</td>\n      <td>8.106</td>\n      <td>False</td>\n      <td>4</td>\n      <td>39954.04</td>\n      <td>151315</td>\n      <td>2</td>\n      <td>5</td>\n      <td>5</td>\n      <td>True</td>\n      <td>False</td>\n      <td>False</td>\n    </tr>\n    <tr>\n      <th>4</th>\n      <td>1</td>\n      <td>42.31</td>\n      <td>2.572</td>\n      <td>211.096358</td>\n      <td>8.106</td>\n      <td>False</td>\n      <td>5</td>\n      <td>32229.38</td>\n      <td>151315</td>\n      <td>2</td>\n      <td>5</td>\n      <td>5</td>\n      <td>True</td>\n      <td>False</td>\n      <td>False</td>\n    </tr>\n  </tbody>\n</table>\n</div>"
     },
     "execution_count": 20,
     "metadata": {},
     "output_type": "execute_result"
    }
   ],
   "source": [
    "df = pd.get_dummies(df, columns=['Store_Type']) # Provide same One-hot encoding\n",
    "df.head()"
   ],
   "metadata": {
    "collapsed": false,
    "ExecuteTime": {
     "end_time": "2024-12-07T18:25:54.025399600Z",
     "start_time": "2024-12-07T18:25:53.946654900Z"
    }
   },
   "id": "f005709b29087b1e"
  },
  {
   "cell_type": "markdown",
   "source": [
    "### Standardize/Scale Features\n",
    "Standardize numerical features like Temperature, Fuel_Price, CPI, and Unemployment to improve model performance"
   ],
   "metadata": {
    "collapsed": false
   },
   "id": "70d2e22dbd02743f"
  },
  {
   "cell_type": "code",
   "execution_count": 21,
   "outputs": [
    {
     "data": {
      "text/plain": "   Store  Temperature  Fuel_Price       CPI  Unemployment  IsHoliday  Dept  \\\n0      1    -0.963831    -1.72052  1.018422      0.078331      False     1   \n1      1    -0.963831    -1.72052  1.018422      0.078331      False     2   \n2      1    -0.963831    -1.72052  1.018422      0.078331      False     3   \n3      1    -0.963831    -1.72052  1.018422      0.078331      False     4   \n4      1    -0.963831    -1.72052  1.018422      0.078331      False     5   \n\n   Weekly_Sales  Store_Size  Month  Day  Week  Store_Type_A  Store_Type_B  \\\n0      24924.50    0.238802      2    5     5          True         False   \n1      50605.27    0.238802      2    5     5          True         False   \n2      13740.12    0.238802      2    5     5          True         False   \n3      39954.04    0.238802      2    5     5          True         False   \n4      32229.38    0.238802      2    5     5          True         False   \n\n   Store_Type_C  \n0         False  \n1         False  \n2         False  \n3         False  \n4         False  ",
      "text/html": "<div>\n<style scoped>\n    .dataframe tbody tr th:only-of-type {\n        vertical-align: middle;\n    }\n\n    .dataframe tbody tr th {\n        vertical-align: top;\n    }\n\n    .dataframe thead th {\n        text-align: right;\n    }\n</style>\n<table border=\"1\" class=\"dataframe\">\n  <thead>\n    <tr style=\"text-align: right;\">\n      <th></th>\n      <th>Store</th>\n      <th>Temperature</th>\n      <th>Fuel_Price</th>\n      <th>CPI</th>\n      <th>Unemployment</th>\n      <th>IsHoliday</th>\n      <th>Dept</th>\n      <th>Weekly_Sales</th>\n      <th>Store_Size</th>\n      <th>Month</th>\n      <th>Day</th>\n      <th>Week</th>\n      <th>Store_Type_A</th>\n      <th>Store_Type_B</th>\n      <th>Store_Type_C</th>\n    </tr>\n  </thead>\n  <tbody>\n    <tr>\n      <th>0</th>\n      <td>1</td>\n      <td>-0.963831</td>\n      <td>-1.72052</td>\n      <td>1.018422</td>\n      <td>0.078331</td>\n      <td>False</td>\n      <td>1</td>\n      <td>24924.50</td>\n      <td>0.238802</td>\n      <td>2</td>\n      <td>5</td>\n      <td>5</td>\n      <td>True</td>\n      <td>False</td>\n      <td>False</td>\n    </tr>\n    <tr>\n      <th>1</th>\n      <td>1</td>\n      <td>-0.963831</td>\n      <td>-1.72052</td>\n      <td>1.018422</td>\n      <td>0.078331</td>\n      <td>False</td>\n      <td>2</td>\n      <td>50605.27</td>\n      <td>0.238802</td>\n      <td>2</td>\n      <td>5</td>\n      <td>5</td>\n      <td>True</td>\n      <td>False</td>\n      <td>False</td>\n    </tr>\n    <tr>\n      <th>2</th>\n      <td>1</td>\n      <td>-0.963831</td>\n      <td>-1.72052</td>\n      <td>1.018422</td>\n      <td>0.078331</td>\n      <td>False</td>\n      <td>3</td>\n      <td>13740.12</td>\n      <td>0.238802</td>\n      <td>2</td>\n      <td>5</td>\n      <td>5</td>\n      <td>True</td>\n      <td>False</td>\n      <td>False</td>\n    </tr>\n    <tr>\n      <th>3</th>\n      <td>1</td>\n      <td>-0.963831</td>\n      <td>-1.72052</td>\n      <td>1.018422</td>\n      <td>0.078331</td>\n      <td>False</td>\n      <td>4</td>\n      <td>39954.04</td>\n      <td>0.238802</td>\n      <td>2</td>\n      <td>5</td>\n      <td>5</td>\n      <td>True</td>\n      <td>False</td>\n      <td>False</td>\n    </tr>\n    <tr>\n      <th>4</th>\n      <td>1</td>\n      <td>-0.963831</td>\n      <td>-1.72052</td>\n      <td>1.018422</td>\n      <td>0.078331</td>\n      <td>False</td>\n      <td>5</td>\n      <td>32229.38</td>\n      <td>0.238802</td>\n      <td>2</td>\n      <td>5</td>\n      <td>5</td>\n      <td>True</td>\n      <td>False</td>\n      <td>False</td>\n    </tr>\n  </tbody>\n</table>\n</div>"
     },
     "execution_count": 21,
     "metadata": {},
     "output_type": "execute_result"
    }
   ],
   "source": [
    "scaler = StandardScaler()\n",
    "\n",
    "# Define columns to scale\n",
    "columns_to_scale = ['Temperature', 'Fuel_Price', 'CPI', 'Unemployment', 'Store_Size']\n",
    "\n",
    "df[columns_to_scale] = scaler.fit_transform(df[columns_to_scale])\n",
    "\n",
    "df.head()"
   ],
   "metadata": {
    "collapsed": false,
    "ExecuteTime": {
     "end_time": "2024-12-07T18:25:54.059541800Z",
     "start_time": "2024-12-07T18:25:53.989399100Z"
    }
   },
   "id": "9ff1573b23081649"
  },
  {
   "cell_type": "code",
   "execution_count": 22,
   "outputs": [],
   "source": [
    "# Save the ML ready dataset\n",
    "df.to_csv('./data/preprocessed/main_ML_ready.csv', index=False, header=True)"
   ],
   "metadata": {
    "collapsed": false,
    "ExecuteTime": {
     "end_time": "2024-12-07T18:25:56.128646600Z",
     "start_time": "2024-12-07T18:25:54.040426600Z"
    }
   },
   "id": "a3398663a0c732f2"
  }
 ],
 "metadata": {
  "kernelspec": {
   "display_name": "Python 3 (ipykernel)",
   "language": "python",
   "name": "python3"
  },
  "language_info": {
   "codemirror_mode": {
    "name": "ipython",
    "version": 3
   },
   "file_extension": ".py",
   "mimetype": "text/x-python",
   "name": "python",
   "nbconvert_exporter": "python",
   "pygments_lexer": "ipython3",
   "version": "3.11.6"
  }
 },
 "nbformat": 4,
 "nbformat_minor": 5
}
