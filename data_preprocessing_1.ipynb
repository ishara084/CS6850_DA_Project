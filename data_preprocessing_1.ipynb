{
 "cells": [
  {
   "cell_type": "markdown",
   "source": [
    "# Data Cleaning and Preparation "
   ],
   "metadata": {
    "collapsed": false
   },
   "id": "2a61cdd4fcf34165"
  },
  {
   "cell_type": "code",
   "execution_count": 1,
   "id": "initial_id",
   "metadata": {
    "collapsed": true,
    "ExecuteTime": {
     "end_time": "2024-11-09T04:12:54.653799100Z",
     "start_time": "2024-11-09T04:12:54.650791500Z"
    }
   },
   "outputs": [],
   "source": [
    "# Importing libraries\n",
    "\n",
    "import numpy as np\n",
    "import pandas as pd\n",
    "from scipy import stats\n",
    "import matplotlib.pyplot as plt\n",
    "import seaborn as sns"
   ]
  },
  {
   "cell_type": "code",
   "execution_count": 2,
   "outputs": [],
   "source": [
    "# Loading all datasets\n",
    "df_main = pd.read_csv(\"data/source/train.csv\") # Main sales data\n",
    "df_features = pd.read_csv(\"data/source/features.csv\") # Additional feature data\n",
    "df_store = pd.read_csv(\"data/source/stores.csv\") # Store data\n",
    "\n",
    "# df_test = pd.read_csv(\"data/source/test.csv\") # We don't need this. it's only for the Kaggle submission (Walmart has provided this test dataset without target variable value for Kaggle submission. We will split train dataset for predictive model training later."
   ],
   "metadata": {
    "collapsed": false,
    "ExecuteTime": {
     "end_time": "2024-11-09T04:12:54.760985700Z",
     "start_time": "2024-11-09T04:12:54.651809900Z"
    }
   },
   "id": "d7094824d43d83c7"
  },
  {
   "cell_type": "code",
   "execution_count": 3,
   "outputs": [
    {
     "name": "stdout",
     "output_type": "stream",
     "text": [
      "Shape of df_main: (421570, 5)\n"
     ]
    },
    {
     "data": {
      "text/plain": "   Store  Dept        Date  Weekly_Sales  IsHoliday\n0      1     1  2010-02-05      24924.50      False\n1      1     1  2010-02-12      46039.49       True\n2      1     1  2010-02-19      41595.55      False\n3      1     1  2010-02-26      19403.54      False\n4      1     1  2010-03-05      21827.90      False",
      "text/html": "<div>\n<style scoped>\n    .dataframe tbody tr th:only-of-type {\n        vertical-align: middle;\n    }\n\n    .dataframe tbody tr th {\n        vertical-align: top;\n    }\n\n    .dataframe thead th {\n        text-align: right;\n    }\n</style>\n<table border=\"1\" class=\"dataframe\">\n  <thead>\n    <tr style=\"text-align: right;\">\n      <th></th>\n      <th>Store</th>\n      <th>Dept</th>\n      <th>Date</th>\n      <th>Weekly_Sales</th>\n      <th>IsHoliday</th>\n    </tr>\n  </thead>\n  <tbody>\n    <tr>\n      <th>0</th>\n      <td>1</td>\n      <td>1</td>\n      <td>2010-02-05</td>\n      <td>24924.50</td>\n      <td>False</td>\n    </tr>\n    <tr>\n      <th>1</th>\n      <td>1</td>\n      <td>1</td>\n      <td>2010-02-12</td>\n      <td>46039.49</td>\n      <td>True</td>\n    </tr>\n    <tr>\n      <th>2</th>\n      <td>1</td>\n      <td>1</td>\n      <td>2010-02-19</td>\n      <td>41595.55</td>\n      <td>False</td>\n    </tr>\n    <tr>\n      <th>3</th>\n      <td>1</td>\n      <td>1</td>\n      <td>2010-02-26</td>\n      <td>19403.54</td>\n      <td>False</td>\n    </tr>\n    <tr>\n      <th>4</th>\n      <td>1</td>\n      <td>1</td>\n      <td>2010-03-05</td>\n      <td>21827.90</td>\n      <td>False</td>\n    </tr>\n  </tbody>\n</table>\n</div>"
     },
     "execution_count": 3,
     "metadata": {},
     "output_type": "execute_result"
    }
   ],
   "source": [
    "print(f\"Shape of df_main: {df_main.shape}\")\n",
    "df_main.head()"
   ],
   "metadata": {
    "collapsed": false,
    "ExecuteTime": {
     "end_time": "2024-11-09T04:12:54.777990300Z",
     "start_time": "2024-11-09T04:12:54.760985700Z"
    }
   },
   "id": "689dc5eb7bfdc41e"
  },
  {
   "cell_type": "code",
   "execution_count": 4,
   "outputs": [
    {
     "name": "stdout",
     "output_type": "stream",
     "text": [
      "Shape of df_features: (8190, 12)\n"
     ]
    },
    {
     "data": {
      "text/plain": "   Store        Date  Temperature  Fuel_Price  MarkDown1  MarkDown2  \\\n0      1  2010-02-05        42.31       2.572        NaN        NaN   \n1      1  2010-02-12        38.51       2.548        NaN        NaN   \n2      1  2010-02-19        39.93       2.514        NaN        NaN   \n3      1  2010-02-26        46.63       2.561        NaN        NaN   \n4      1  2010-03-05        46.50       2.625        NaN        NaN   \n\n   MarkDown3  MarkDown4  MarkDown5         CPI  Unemployment  IsHoliday  \n0        NaN        NaN        NaN  211.096358         8.106      False  \n1        NaN        NaN        NaN  211.242170         8.106       True  \n2        NaN        NaN        NaN  211.289143         8.106      False  \n3        NaN        NaN        NaN  211.319643         8.106      False  \n4        NaN        NaN        NaN  211.350143         8.106      False  ",
      "text/html": "<div>\n<style scoped>\n    .dataframe tbody tr th:only-of-type {\n        vertical-align: middle;\n    }\n\n    .dataframe tbody tr th {\n        vertical-align: top;\n    }\n\n    .dataframe thead th {\n        text-align: right;\n    }\n</style>\n<table border=\"1\" class=\"dataframe\">\n  <thead>\n    <tr style=\"text-align: right;\">\n      <th></th>\n      <th>Store</th>\n      <th>Date</th>\n      <th>Temperature</th>\n      <th>Fuel_Price</th>\n      <th>MarkDown1</th>\n      <th>MarkDown2</th>\n      <th>MarkDown3</th>\n      <th>MarkDown4</th>\n      <th>MarkDown5</th>\n      <th>CPI</th>\n      <th>Unemployment</th>\n      <th>IsHoliday</th>\n    </tr>\n  </thead>\n  <tbody>\n    <tr>\n      <th>0</th>\n      <td>1</td>\n      <td>2010-02-05</td>\n      <td>42.31</td>\n      <td>2.572</td>\n      <td>NaN</td>\n      <td>NaN</td>\n      <td>NaN</td>\n      <td>NaN</td>\n      <td>NaN</td>\n      <td>211.096358</td>\n      <td>8.106</td>\n      <td>False</td>\n    </tr>\n    <tr>\n      <th>1</th>\n      <td>1</td>\n      <td>2010-02-12</td>\n      <td>38.51</td>\n      <td>2.548</td>\n      <td>NaN</td>\n      <td>NaN</td>\n      <td>NaN</td>\n      <td>NaN</td>\n      <td>NaN</td>\n      <td>211.242170</td>\n      <td>8.106</td>\n      <td>True</td>\n    </tr>\n    <tr>\n      <th>2</th>\n      <td>1</td>\n      <td>2010-02-19</td>\n      <td>39.93</td>\n      <td>2.514</td>\n      <td>NaN</td>\n      <td>NaN</td>\n      <td>NaN</td>\n      <td>NaN</td>\n      <td>NaN</td>\n      <td>211.289143</td>\n      <td>8.106</td>\n      <td>False</td>\n    </tr>\n    <tr>\n      <th>3</th>\n      <td>1</td>\n      <td>2010-02-26</td>\n      <td>46.63</td>\n      <td>2.561</td>\n      <td>NaN</td>\n      <td>NaN</td>\n      <td>NaN</td>\n      <td>NaN</td>\n      <td>NaN</td>\n      <td>211.319643</td>\n      <td>8.106</td>\n      <td>False</td>\n    </tr>\n    <tr>\n      <th>4</th>\n      <td>1</td>\n      <td>2010-03-05</td>\n      <td>46.50</td>\n      <td>2.625</td>\n      <td>NaN</td>\n      <td>NaN</td>\n      <td>NaN</td>\n      <td>NaN</td>\n      <td>NaN</td>\n      <td>211.350143</td>\n      <td>8.106</td>\n      <td>False</td>\n    </tr>\n  </tbody>\n</table>\n</div>"
     },
     "execution_count": 4,
     "metadata": {},
     "output_type": "execute_result"
    }
   ],
   "source": [
    "print(f\"Shape of df_features: {df_features.shape}\")\n",
    "df_features.head()"
   ],
   "metadata": {
    "collapsed": false,
    "ExecuteTime": {
     "end_time": "2024-11-09T04:12:54.780477Z",
     "start_time": "2024-11-09T04:12:54.772995100Z"
    }
   },
   "id": "9201b222b138c6f8"
  },
  {
   "cell_type": "code",
   "execution_count": 5,
   "outputs": [
    {
     "name": "stdout",
     "output_type": "stream",
     "text": [
      "Shape of df_store: (45, 3)\n"
     ]
    },
    {
     "data": {
      "text/plain": "   Store Type    Size\n0      1    A  151315\n1      2    A  202307\n2      3    B   37392\n3      4    A  205863\n4      5    B   34875",
      "text/html": "<div>\n<style scoped>\n    .dataframe tbody tr th:only-of-type {\n        vertical-align: middle;\n    }\n\n    .dataframe tbody tr th {\n        vertical-align: top;\n    }\n\n    .dataframe thead th {\n        text-align: right;\n    }\n</style>\n<table border=\"1\" class=\"dataframe\">\n  <thead>\n    <tr style=\"text-align: right;\">\n      <th></th>\n      <th>Store</th>\n      <th>Type</th>\n      <th>Size</th>\n    </tr>\n  </thead>\n  <tbody>\n    <tr>\n      <th>0</th>\n      <td>1</td>\n      <td>A</td>\n      <td>151315</td>\n    </tr>\n    <tr>\n      <th>1</th>\n      <td>2</td>\n      <td>A</td>\n      <td>202307</td>\n    </tr>\n    <tr>\n      <th>2</th>\n      <td>3</td>\n      <td>B</td>\n      <td>37392</td>\n    </tr>\n    <tr>\n      <th>3</th>\n      <td>4</td>\n      <td>A</td>\n      <td>205863</td>\n    </tr>\n    <tr>\n      <th>4</th>\n      <td>5</td>\n      <td>B</td>\n      <td>34875</td>\n    </tr>\n  </tbody>\n</table>\n</div>"
     },
     "execution_count": 5,
     "metadata": {},
     "output_type": "execute_result"
    }
   ],
   "source": [
    "print(f\"Shape of df_store: {df_store.shape}\")\n",
    "df_store.head()"
   ],
   "metadata": {
    "collapsed": false,
    "ExecuteTime": {
     "end_time": "2024-11-09T04:12:54.849431200Z",
     "start_time": "2024-11-09T04:12:54.780477Z"
    }
   },
   "id": "d89825a4c61860f5"
  },
  {
   "cell_type": "markdown",
   "source": [
    "### 1. Handle Missing Values"
   ],
   "metadata": {
    "collapsed": false
   },
   "id": "53c39d6c094f4e66"
  },
  {
   "cell_type": "code",
   "execution_count": 6,
   "outputs": [
    {
     "data": {
      "text/plain": "Store           0\nDept            0\nDate            0\nWeekly_Sales    0\nIsHoliday       0\ndtype: int64"
     },
     "execution_count": 6,
     "metadata": {},
     "output_type": "execute_result"
    }
   ],
   "source": [
    "df_main.isna().sum()"
   ],
   "metadata": {
    "collapsed": false,
    "ExecuteTime": {
     "end_time": "2024-11-09T04:12:54.875860Z",
     "start_time": "2024-11-09T04:12:54.790970300Z"
    }
   },
   "id": "296ff05b64cb4888"
  },
  {
   "cell_type": "code",
   "execution_count": 7,
   "outputs": [
    {
     "data": {
      "text/plain": "Store    0\nType     0\nSize     0\ndtype: int64"
     },
     "execution_count": 7,
     "metadata": {},
     "output_type": "execute_result"
    }
   ],
   "source": [
    "df_store.isna().sum()"
   ],
   "metadata": {
    "collapsed": false,
    "ExecuteTime": {
     "end_time": "2024-11-09T04:12:54.876860500Z",
     "start_time": "2024-11-09T04:12:54.806183100Z"
    }
   },
   "id": "df04f3a208d2efa9"
  },
  {
   "cell_type": "code",
   "execution_count": 8,
   "outputs": [
    {
     "data": {
      "text/plain": "Store              0\nDate               0\nTemperature        0\nFuel_Price         0\nMarkDown1       4158\nMarkDown2       5269\nMarkDown3       4577\nMarkDown4       4726\nMarkDown5       4140\nCPI              585\nUnemployment     585\nIsHoliday          0\ndtype: int64"
     },
     "execution_count": 8,
     "metadata": {},
     "output_type": "execute_result"
    }
   ],
   "source": [
    "df_features.isna().sum()"
   ],
   "metadata": {
    "collapsed": false,
    "ExecuteTime": {
     "end_time": "2024-11-09T04:12:54.923861100Z",
     "start_time": "2024-11-09T04:12:54.812429500Z"
    }
   },
   "id": "578309f95e650705"
  },
  {
   "cell_type": "code",
   "execution_count": 9,
   "outputs": [
    {
     "name": "stderr",
     "output_type": "stream",
     "text": [
      "C:\\Users\\ishar\\AppData\\Local\\Temp\\ipykernel_104736\\1868753764.py:4: FutureWarning: A value is trying to be set on a copy of a DataFrame or Series through chained assignment using an inplace method.\n",
      "The behavior will change in pandas 3.0. This inplace method will never work because the intermediate object on which we are setting values always behaves as a copy.\n",
      "\n",
      "For example, when doing 'df[col].method(value, inplace=True)', try using 'df.method({col: value}, inplace=True)' or df[col] = df[col].method(value) instead, to perform the operation inplace on the original object.\n",
      "\n",
      "\n",
      "  df_features['CPI'].fillna(df_features['CPI'].mean(), inplace=True) # Applied Mean Imputation\n",
      "C:\\Users\\ishar\\AppData\\Local\\Temp\\ipykernel_104736\\1868753764.py:5: FutureWarning: A value is trying to be set on a copy of a DataFrame or Series through chained assignment using an inplace method.\n",
      "The behavior will change in pandas 3.0. This inplace method will never work because the intermediate object on which we are setting values always behaves as a copy.\n",
      "\n",
      "For example, when doing 'df[col].method(value, inplace=True)', try using 'df.method({col: value}, inplace=True)' or df[col] = df[col].method(value) instead, to perform the operation inplace on the original object.\n",
      "\n",
      "\n",
      "  df_features['Unemployment'].fillna(df_features['Unemployment'].mean(),inplace=True) # Applied Mean Imputation\n"
     ]
    }
   ],
   "source": [
    "# Fill missing values\n",
    "\n",
    "# (CPI) Consumer price index\n",
    "df_features['CPI'].fillna(df_features['CPI'].mean(), inplace=True) # Applied Mean Imputation\n",
    "df_features['Unemployment'].fillna(df_features['Unemployment'].mean(),inplace=True) # Applied Mean Imputation"
   ],
   "metadata": {
    "collapsed": false,
    "ExecuteTime": {
     "end_time": "2024-11-09T04:12:54.924862600Z",
     "start_time": "2024-11-09T04:12:54.821053400Z"
    }
   },
   "id": "28c90d12e79f2e06"
  },
  {
   "cell_type": "code",
   "execution_count": 10,
   "outputs": [
    {
     "name": "stderr",
     "output_type": "stream",
     "text": [
      "C:\\Users\\ishar\\AppData\\Local\\Temp\\ipykernel_104736\\3510107041.py:3: FutureWarning: A value is trying to be set on a copy of a DataFrame or Series through chained assignment using an inplace method.\n",
      "The behavior will change in pandas 3.0. This inplace method will never work because the intermediate object on which we are setting values always behaves as a copy.\n",
      "\n",
      "For example, when doing 'df[col].method(value, inplace=True)', try using 'df.method({col: value}, inplace=True)' or df[col] = df[col].method(value) instead, to perform the operation inplace on the original object.\n",
      "\n",
      "\n",
      "  df_features[\"MarkDown\"+str(i)].fillna(value=0, inplace=True)\n"
     ]
    }
   ],
   "source": [
    "# Replace NA MarkDown values with 0\n",
    "for i in range(1,6):\n",
    "    df_features[\"MarkDown\"+str(i)].fillna(value=0, inplace=True)"
   ],
   "metadata": {
    "collapsed": false,
    "ExecuteTime": {
     "end_time": "2024-11-09T04:12:54.944881800Z",
     "start_time": "2024-11-09T04:12:54.828204100Z"
    }
   },
   "id": "155b92ed705fa1f6"
  },
  {
   "cell_type": "code",
   "execution_count": 11,
   "outputs": [
    {
     "name": "stdout",
     "output_type": "stream",
     "text": [
      "<class 'pandas.core.frame.DataFrame'>\n",
      "RangeIndex: 8190 entries, 0 to 8189\n",
      "Data columns (total 12 columns):\n",
      " #   Column        Non-Null Count  Dtype  \n",
      "---  ------        --------------  -----  \n",
      " 0   Store         8190 non-null   int64  \n",
      " 1   Date          8190 non-null   object \n",
      " 2   Temperature   8190 non-null   float64\n",
      " 3   Fuel_Price    8190 non-null   float64\n",
      " 4   MarkDown1     8190 non-null   float64\n",
      " 5   MarkDown2     8190 non-null   float64\n",
      " 6   MarkDown3     8190 non-null   float64\n",
      " 7   MarkDown4     8190 non-null   float64\n",
      " 8   MarkDown5     8190 non-null   float64\n",
      " 9   CPI           8190 non-null   float64\n",
      " 10  Unemployment  8190 non-null   float64\n",
      " 11  IsHoliday     8190 non-null   bool   \n",
      "dtypes: bool(1), float64(9), int64(1), object(1)\n",
      "memory usage: 712.0+ KB\n"
     ]
    }
   ],
   "source": [
    "df_features.info()"
   ],
   "metadata": {
    "collapsed": false,
    "ExecuteTime": {
     "end_time": "2024-11-09T04:12:54.946897100Z",
     "start_time": "2024-11-09T04:12:54.835081100Z"
    }
   },
   "id": "51f88a48e6521d0f"
  },
  {
   "cell_type": "code",
   "execution_count": 12,
   "outputs": [
    {
     "data": {
      "text/plain": "   Store        Date  Temperature  Fuel_Price  MarkDown1  MarkDown2  \\\n0      1  2010-02-05        42.31       2.572        0.0        0.0   \n1      1  2010-02-12        38.51       2.548        0.0        0.0   \n2      1  2010-02-19        39.93       2.514        0.0        0.0   \n3      1  2010-02-26        46.63       2.561        0.0        0.0   \n4      1  2010-03-05        46.50       2.625        0.0        0.0   \n\n   MarkDown3  MarkDown4  MarkDown5         CPI  Unemployment  IsHoliday  \n0        0.0        0.0        0.0  211.096358         8.106      False  \n1        0.0        0.0        0.0  211.242170         8.106       True  \n2        0.0        0.0        0.0  211.289143         8.106      False  \n3        0.0        0.0        0.0  211.319643         8.106      False  \n4        0.0        0.0        0.0  211.350143         8.106      False  ",
      "text/html": "<div>\n<style scoped>\n    .dataframe tbody tr th:only-of-type {\n        vertical-align: middle;\n    }\n\n    .dataframe tbody tr th {\n        vertical-align: top;\n    }\n\n    .dataframe thead th {\n        text-align: right;\n    }\n</style>\n<table border=\"1\" class=\"dataframe\">\n  <thead>\n    <tr style=\"text-align: right;\">\n      <th></th>\n      <th>Store</th>\n      <th>Date</th>\n      <th>Temperature</th>\n      <th>Fuel_Price</th>\n      <th>MarkDown1</th>\n      <th>MarkDown2</th>\n      <th>MarkDown3</th>\n      <th>MarkDown4</th>\n      <th>MarkDown5</th>\n      <th>CPI</th>\n      <th>Unemployment</th>\n      <th>IsHoliday</th>\n    </tr>\n  </thead>\n  <tbody>\n    <tr>\n      <th>0</th>\n      <td>1</td>\n      <td>2010-02-05</td>\n      <td>42.31</td>\n      <td>2.572</td>\n      <td>0.0</td>\n      <td>0.0</td>\n      <td>0.0</td>\n      <td>0.0</td>\n      <td>0.0</td>\n      <td>211.096358</td>\n      <td>8.106</td>\n      <td>False</td>\n    </tr>\n    <tr>\n      <th>1</th>\n      <td>1</td>\n      <td>2010-02-12</td>\n      <td>38.51</td>\n      <td>2.548</td>\n      <td>0.0</td>\n      <td>0.0</td>\n      <td>0.0</td>\n      <td>0.0</td>\n      <td>0.0</td>\n      <td>211.242170</td>\n      <td>8.106</td>\n      <td>True</td>\n    </tr>\n    <tr>\n      <th>2</th>\n      <td>1</td>\n      <td>2010-02-19</td>\n      <td>39.93</td>\n      <td>2.514</td>\n      <td>0.0</td>\n      <td>0.0</td>\n      <td>0.0</td>\n      <td>0.0</td>\n      <td>0.0</td>\n      <td>211.289143</td>\n      <td>8.106</td>\n      <td>False</td>\n    </tr>\n    <tr>\n      <th>3</th>\n      <td>1</td>\n      <td>2010-02-26</td>\n      <td>46.63</td>\n      <td>2.561</td>\n      <td>0.0</td>\n      <td>0.0</td>\n      <td>0.0</td>\n      <td>0.0</td>\n      <td>0.0</td>\n      <td>211.319643</td>\n      <td>8.106</td>\n      <td>False</td>\n    </tr>\n    <tr>\n      <th>4</th>\n      <td>1</td>\n      <td>2010-03-05</td>\n      <td>46.50</td>\n      <td>2.625</td>\n      <td>0.0</td>\n      <td>0.0</td>\n      <td>0.0</td>\n      <td>0.0</td>\n      <td>0.0</td>\n      <td>211.350143</td>\n      <td>8.106</td>\n      <td>False</td>\n    </tr>\n  </tbody>\n</table>\n</div>"
     },
     "execution_count": 12,
     "metadata": {},
     "output_type": "execute_result"
    }
   ],
   "source": [
    "df_features.head()"
   ],
   "metadata": {
    "collapsed": false,
    "ExecuteTime": {
     "end_time": "2024-11-09T04:12:54.948903400Z",
     "start_time": "2024-11-09T04:12:54.845383800Z"
    }
   },
   "id": "40bc45f813e507d5"
  },
  {
   "cell_type": "markdown",
   "source": [
    "### 2. Merge Datasets\n",
    "\n",
    "We have main dataset and another 2 datasets which contains additional set of features and store features. We will merge these three dataset into a single dataset."
   ],
   "metadata": {
    "collapsed": false
   },
   "id": "18a56d69bf91f260"
  },
  {
   "cell_type": "markdown",
   "source": [
    "Verify the data consistency(of joining columns) before merging"
   ],
   "metadata": {
    "collapsed": false
   },
   "id": "5d6ca763eecebd4a"
  },
  {
   "cell_type": "code",
   "execution_count": 13,
   "outputs": [],
   "source": [
    "# Convert store columns to string\n",
    "df_features['Store'] = df_features['Store'].astype(str)\n",
    "df_main['Store'] = df_main['Store'].astype(str)\n",
    "df_store['Store'] = df_store['Store'].astype(str)\n",
    "\n",
    "# Convert date columns to datetime format\n",
    "df_features['Date'] = pd.to_datetime(df_features['Date'])\n",
    "df_main['Date'] = pd.to_datetime(df_main['Date'])\n",
    "\n",
    "# Remove any spaces in the join columns in the merge\n",
    "df_features['Store'] = df_features['Store'].str.strip()\n",
    "df_main['Store'] = df_main['Store'].str.strip()\n",
    "df_store['Store'] = df_store['Store'].str.strip()"
   ],
   "metadata": {
    "collapsed": false,
    "ExecuteTime": {
     "end_time": "2024-11-09T04:12:55.157339700Z",
     "start_time": "2024-11-09T04:12:54.855349300Z"
    }
   },
   "id": "18a8fe34c220a650"
  },
  {
   "cell_type": "code",
   "execution_count": 14,
   "outputs": [
    {
     "data": {
      "text/plain": "  Store  Dept       Date  Weekly_Sales  IsHoliday Type    Size\n0     1     1 2010-02-05      24924.50      False    A  151315\n1     1     1 2010-02-12      46039.49       True    A  151315\n2     1     1 2010-02-19      41595.55      False    A  151315\n3     1     1 2010-02-26      19403.54      False    A  151315\n4     1     1 2010-03-05      21827.90      False    A  151315",
      "text/html": "<div>\n<style scoped>\n    .dataframe tbody tr th:only-of-type {\n        vertical-align: middle;\n    }\n\n    .dataframe tbody tr th {\n        vertical-align: top;\n    }\n\n    .dataframe thead th {\n        text-align: right;\n    }\n</style>\n<table border=\"1\" class=\"dataframe\">\n  <thead>\n    <tr style=\"text-align: right;\">\n      <th></th>\n      <th>Store</th>\n      <th>Dept</th>\n      <th>Date</th>\n      <th>Weekly_Sales</th>\n      <th>IsHoliday</th>\n      <th>Type</th>\n      <th>Size</th>\n    </tr>\n  </thead>\n  <tbody>\n    <tr>\n      <th>0</th>\n      <td>1</td>\n      <td>1</td>\n      <td>2010-02-05</td>\n      <td>24924.50</td>\n      <td>False</td>\n      <td>A</td>\n      <td>151315</td>\n    </tr>\n    <tr>\n      <th>1</th>\n      <td>1</td>\n      <td>1</td>\n      <td>2010-02-12</td>\n      <td>46039.49</td>\n      <td>True</td>\n      <td>A</td>\n      <td>151315</td>\n    </tr>\n    <tr>\n      <th>2</th>\n      <td>1</td>\n      <td>1</td>\n      <td>2010-02-19</td>\n      <td>41595.55</td>\n      <td>False</td>\n      <td>A</td>\n      <td>151315</td>\n    </tr>\n    <tr>\n      <th>3</th>\n      <td>1</td>\n      <td>1</td>\n      <td>2010-02-26</td>\n      <td>19403.54</td>\n      <td>False</td>\n      <td>A</td>\n      <td>151315</td>\n    </tr>\n    <tr>\n      <th>4</th>\n      <td>1</td>\n      <td>1</td>\n      <td>2010-03-05</td>\n      <td>21827.90</td>\n      <td>False</td>\n      <td>A</td>\n      <td>151315</td>\n    </tr>\n  </tbody>\n</table>\n</div>"
     },
     "execution_count": 14,
     "metadata": {},
     "output_type": "execute_result"
    }
   ],
   "source": [
    "# Merge main train data and store data\n",
    "df_temp = pd.merge(df_main, df_store,  how='left', on='Store')\n",
    "df_temp.head()"
   ],
   "metadata": {
    "collapsed": false,
    "ExecuteTime": {
     "end_time": "2024-11-09T04:12:55.165671700Z",
     "start_time": "2024-11-09T04:12:54.961646600Z"
    }
   },
   "id": "b23417dc34a5c474"
  },
  {
   "cell_type": "code",
   "execution_count": 15,
   "outputs": [
    {
     "data": {
      "text/plain": "  Store       Date  Temperature  Fuel_Price  MarkDown1  MarkDown2  MarkDown3  \\\n0     1 2010-02-05        42.31       2.572        0.0        0.0        0.0   \n1     1 2010-02-05        42.31       2.572        0.0        0.0        0.0   \n2     1 2010-02-05        42.31       2.572        0.0        0.0        0.0   \n3     1 2010-02-05        42.31       2.572        0.0        0.0        0.0   \n4     1 2010-02-05        42.31       2.572        0.0        0.0        0.0   \n\n   MarkDown4  MarkDown5         CPI  Unemployment  IsHoliday_x  Dept  \\\n0        0.0        0.0  211.096358         8.106        False     1   \n1        0.0        0.0  211.096358         8.106        False     2   \n2        0.0        0.0  211.096358         8.106        False     3   \n3        0.0        0.0  211.096358         8.106        False     4   \n4        0.0        0.0  211.096358         8.106        False     5   \n\n   Weekly_Sales  IsHoliday_y Type    Size  \n0      24924.50        False    A  151315  \n1      50605.27        False    A  151315  \n2      13740.12        False    A  151315  \n3      39954.04        False    A  151315  \n4      32229.38        False    A  151315  ",
      "text/html": "<div>\n<style scoped>\n    .dataframe tbody tr th:only-of-type {\n        vertical-align: middle;\n    }\n\n    .dataframe tbody tr th {\n        vertical-align: top;\n    }\n\n    .dataframe thead th {\n        text-align: right;\n    }\n</style>\n<table border=\"1\" class=\"dataframe\">\n  <thead>\n    <tr style=\"text-align: right;\">\n      <th></th>\n      <th>Store</th>\n      <th>Date</th>\n      <th>Temperature</th>\n      <th>Fuel_Price</th>\n      <th>MarkDown1</th>\n      <th>MarkDown2</th>\n      <th>MarkDown3</th>\n      <th>MarkDown4</th>\n      <th>MarkDown5</th>\n      <th>CPI</th>\n      <th>Unemployment</th>\n      <th>IsHoliday_x</th>\n      <th>Dept</th>\n      <th>Weekly_Sales</th>\n      <th>IsHoliday_y</th>\n      <th>Type</th>\n      <th>Size</th>\n    </tr>\n  </thead>\n  <tbody>\n    <tr>\n      <th>0</th>\n      <td>1</td>\n      <td>2010-02-05</td>\n      <td>42.31</td>\n      <td>2.572</td>\n      <td>0.0</td>\n      <td>0.0</td>\n      <td>0.0</td>\n      <td>0.0</td>\n      <td>0.0</td>\n      <td>211.096358</td>\n      <td>8.106</td>\n      <td>False</td>\n      <td>1</td>\n      <td>24924.50</td>\n      <td>False</td>\n      <td>A</td>\n      <td>151315</td>\n    </tr>\n    <tr>\n      <th>1</th>\n      <td>1</td>\n      <td>2010-02-05</td>\n      <td>42.31</td>\n      <td>2.572</td>\n      <td>0.0</td>\n      <td>0.0</td>\n      <td>0.0</td>\n      <td>0.0</td>\n      <td>0.0</td>\n      <td>211.096358</td>\n      <td>8.106</td>\n      <td>False</td>\n      <td>2</td>\n      <td>50605.27</td>\n      <td>False</td>\n      <td>A</td>\n      <td>151315</td>\n    </tr>\n    <tr>\n      <th>2</th>\n      <td>1</td>\n      <td>2010-02-05</td>\n      <td>42.31</td>\n      <td>2.572</td>\n      <td>0.0</td>\n      <td>0.0</td>\n      <td>0.0</td>\n      <td>0.0</td>\n      <td>0.0</td>\n      <td>211.096358</td>\n      <td>8.106</td>\n      <td>False</td>\n      <td>3</td>\n      <td>13740.12</td>\n      <td>False</td>\n      <td>A</td>\n      <td>151315</td>\n    </tr>\n    <tr>\n      <th>3</th>\n      <td>1</td>\n      <td>2010-02-05</td>\n      <td>42.31</td>\n      <td>2.572</td>\n      <td>0.0</td>\n      <td>0.0</td>\n      <td>0.0</td>\n      <td>0.0</td>\n      <td>0.0</td>\n      <td>211.096358</td>\n      <td>8.106</td>\n      <td>False</td>\n      <td>4</td>\n      <td>39954.04</td>\n      <td>False</td>\n      <td>A</td>\n      <td>151315</td>\n    </tr>\n    <tr>\n      <th>4</th>\n      <td>1</td>\n      <td>2010-02-05</td>\n      <td>42.31</td>\n      <td>2.572</td>\n      <td>0.0</td>\n      <td>0.0</td>\n      <td>0.0</td>\n      <td>0.0</td>\n      <td>0.0</td>\n      <td>211.096358</td>\n      <td>8.106</td>\n      <td>False</td>\n      <td>5</td>\n      <td>32229.38</td>\n      <td>False</td>\n      <td>A</td>\n      <td>151315</td>\n    </tr>\n  </tbody>\n</table>\n</div>"
     },
     "execution_count": 15,
     "metadata": {},
     "output_type": "execute_result"
    }
   ],
   "source": [
    "# Merge additional feature data to df_temp\n",
    "df = pd.merge(df_features, df_temp, on=['Store', 'Date'], how='inner')\n",
    "df.head()"
   ],
   "metadata": {
    "collapsed": false,
    "ExecuteTime": {
     "end_time": "2024-11-09T04:12:55.210645800Z",
     "start_time": "2024-11-09T04:12:55.003419100Z"
    }
   },
   "id": "d8e53c7ab8a8bfdd"
  },
  {
   "cell_type": "code",
   "execution_count": 16,
   "outputs": [
    {
     "data": {
      "text/plain": "  Store       Date  Temperature  Fuel_Price  MarkDown1  MarkDown2  MarkDown3  \\\n0     1 2010-02-05        42.31       2.572        0.0        0.0        0.0   \n1     1 2010-02-05        42.31       2.572        0.0        0.0        0.0   \n2     1 2010-02-05        42.31       2.572        0.0        0.0        0.0   \n3     1 2010-02-05        42.31       2.572        0.0        0.0        0.0   \n4     1 2010-02-05        42.31       2.572        0.0        0.0        0.0   \n\n   MarkDown4  MarkDown5         CPI  Unemployment  IsHoliday_x  Dept  \\\n0        0.0        0.0  211.096358         8.106        False     1   \n1        0.0        0.0  211.096358         8.106        False     2   \n2        0.0        0.0  211.096358         8.106        False     3   \n3        0.0        0.0  211.096358         8.106        False     4   \n4        0.0        0.0  211.096358         8.106        False     5   \n\n   Weekly_Sales  IsHoliday_y Store_Type  Store_Size  \n0      24924.50        False          A      151315  \n1      50605.27        False          A      151315  \n2      13740.12        False          A      151315  \n3      39954.04        False          A      151315  \n4      32229.38        False          A      151315  ",
      "text/html": "<div>\n<style scoped>\n    .dataframe tbody tr th:only-of-type {\n        vertical-align: middle;\n    }\n\n    .dataframe tbody tr th {\n        vertical-align: top;\n    }\n\n    .dataframe thead th {\n        text-align: right;\n    }\n</style>\n<table border=\"1\" class=\"dataframe\">\n  <thead>\n    <tr style=\"text-align: right;\">\n      <th></th>\n      <th>Store</th>\n      <th>Date</th>\n      <th>Temperature</th>\n      <th>Fuel_Price</th>\n      <th>MarkDown1</th>\n      <th>MarkDown2</th>\n      <th>MarkDown3</th>\n      <th>MarkDown4</th>\n      <th>MarkDown5</th>\n      <th>CPI</th>\n      <th>Unemployment</th>\n      <th>IsHoliday_x</th>\n      <th>Dept</th>\n      <th>Weekly_Sales</th>\n      <th>IsHoliday_y</th>\n      <th>Store_Type</th>\n      <th>Store_Size</th>\n    </tr>\n  </thead>\n  <tbody>\n    <tr>\n      <th>0</th>\n      <td>1</td>\n      <td>2010-02-05</td>\n      <td>42.31</td>\n      <td>2.572</td>\n      <td>0.0</td>\n      <td>0.0</td>\n      <td>0.0</td>\n      <td>0.0</td>\n      <td>0.0</td>\n      <td>211.096358</td>\n      <td>8.106</td>\n      <td>False</td>\n      <td>1</td>\n      <td>24924.50</td>\n      <td>False</td>\n      <td>A</td>\n      <td>151315</td>\n    </tr>\n    <tr>\n      <th>1</th>\n      <td>1</td>\n      <td>2010-02-05</td>\n      <td>42.31</td>\n      <td>2.572</td>\n      <td>0.0</td>\n      <td>0.0</td>\n      <td>0.0</td>\n      <td>0.0</td>\n      <td>0.0</td>\n      <td>211.096358</td>\n      <td>8.106</td>\n      <td>False</td>\n      <td>2</td>\n      <td>50605.27</td>\n      <td>False</td>\n      <td>A</td>\n      <td>151315</td>\n    </tr>\n    <tr>\n      <th>2</th>\n      <td>1</td>\n      <td>2010-02-05</td>\n      <td>42.31</td>\n      <td>2.572</td>\n      <td>0.0</td>\n      <td>0.0</td>\n      <td>0.0</td>\n      <td>0.0</td>\n      <td>0.0</td>\n      <td>211.096358</td>\n      <td>8.106</td>\n      <td>False</td>\n      <td>3</td>\n      <td>13740.12</td>\n      <td>False</td>\n      <td>A</td>\n      <td>151315</td>\n    </tr>\n    <tr>\n      <th>3</th>\n      <td>1</td>\n      <td>2010-02-05</td>\n      <td>42.31</td>\n      <td>2.572</td>\n      <td>0.0</td>\n      <td>0.0</td>\n      <td>0.0</td>\n      <td>0.0</td>\n      <td>0.0</td>\n      <td>211.096358</td>\n      <td>8.106</td>\n      <td>False</td>\n      <td>4</td>\n      <td>39954.04</td>\n      <td>False</td>\n      <td>A</td>\n      <td>151315</td>\n    </tr>\n    <tr>\n      <th>4</th>\n      <td>1</td>\n      <td>2010-02-05</td>\n      <td>42.31</td>\n      <td>2.572</td>\n      <td>0.0</td>\n      <td>0.0</td>\n      <td>0.0</td>\n      <td>0.0</td>\n      <td>0.0</td>\n      <td>211.096358</td>\n      <td>8.106</td>\n      <td>False</td>\n      <td>5</td>\n      <td>32229.38</td>\n      <td>False</td>\n      <td>A</td>\n      <td>151315</td>\n    </tr>\n  </tbody>\n</table>\n</div>"
     },
     "execution_count": 16,
     "metadata": {},
     "output_type": "execute_result"
    }
   ],
   "source": [
    "# Rename original column names meaningfully\n",
    "df.rename(columns={'Type': 'Store_Type', 'Size': 'Store_Size'}, inplace=True)\n",
    "df.head()"
   ],
   "metadata": {
    "collapsed": false,
    "ExecuteTime": {
     "end_time": "2024-11-09T04:12:55.212646300Z",
     "start_time": "2024-11-09T04:12:55.083830200Z"
    }
   },
   "id": "ce20a83b8d25ee49"
  },
  {
   "cell_type": "code",
   "execution_count": 17,
   "outputs": [
    {
     "name": "stdout",
     "output_type": "stream",
     "text": [
      "<class 'pandas.core.frame.DataFrame'>\n",
      "RangeIndex: 421570 entries, 0 to 421569\n",
      "Data columns (total 17 columns):\n",
      " #   Column        Non-Null Count   Dtype         \n",
      "---  ------        --------------   -----         \n",
      " 0   Store         421570 non-null  object        \n",
      " 1   Date          421570 non-null  datetime64[ns]\n",
      " 2   Temperature   421570 non-null  float64       \n",
      " 3   Fuel_Price    421570 non-null  float64       \n",
      " 4   MarkDown1     421570 non-null  float64       \n",
      " 5   MarkDown2     421570 non-null  float64       \n",
      " 6   MarkDown3     421570 non-null  float64       \n",
      " 7   MarkDown4     421570 non-null  float64       \n",
      " 8   MarkDown5     421570 non-null  float64       \n",
      " 9   CPI           421570 non-null  float64       \n",
      " 10  Unemployment  421570 non-null  float64       \n",
      " 11  IsHoliday_x   421570 non-null  bool          \n",
      " 12  Dept          421570 non-null  int64         \n",
      " 13  Weekly_Sales  421570 non-null  float64       \n",
      " 14  IsHoliday_y   421570 non-null  bool          \n",
      " 15  Store_Type    421570 non-null  object        \n",
      " 16  Store_Size    421570 non-null  int64         \n",
      "dtypes: bool(2), datetime64[ns](1), float64(10), int64(2), object(2)\n",
      "memory usage: 49.0+ MB\n",
      "Shape: (421570, 17)\n"
     ]
    }
   ],
   "source": [
    "# Verify final merged dataset\n",
    "df.info()\n",
    "print(f\"Shape: {df.shape}\")"
   ],
   "metadata": {
    "collapsed": false,
    "ExecuteTime": {
     "end_time": "2024-11-09T04:12:55.240182400Z",
     "start_time": "2024-11-09T04:12:55.092372Z"
    }
   },
   "id": "d994772c2fb40fd"
  },
  {
   "cell_type": "markdown",
   "source": [
    "### 3. Check duplicate rows/columns"
   ],
   "metadata": {
    "collapsed": false
   },
   "id": "732170d1fc011cd5"
  },
  {
   "cell_type": "code",
   "execution_count": 18,
   "outputs": [
    {
     "name": "stdout",
     "output_type": "stream",
     "text": [
      "Empty DataFrame\n",
      "Columns: [Store, Date, Temperature, Fuel_Price, MarkDown1, MarkDown2, MarkDown3, MarkDown4, MarkDown5, CPI, Unemployment, IsHoliday_x, Dept, Weekly_Sales, IsHoliday_y, Store_Type, Store_Size]\n",
      "Index: []\n"
     ]
    }
   ],
   "source": [
    "# Check for duplicate rows\n",
    "duplicates = df.duplicated()\n",
    "print(df[duplicates])"
   ],
   "metadata": {
    "collapsed": false,
    "ExecuteTime": {
     "end_time": "2024-11-09T04:12:55.352788100Z",
     "start_time": "2024-11-09T04:12:55.135384800Z"
    }
   },
   "id": "3128809162c9a538"
  },
  {
   "cell_type": "code",
   "execution_count": 19,
   "outputs": [
    {
     "data": {
      "text/plain": "True"
     },
     "execution_count": 19,
     "metadata": {},
     "output_type": "execute_result"
    }
   ],
   "source": [
    "# Check for duplicate columns\n",
    "# Check \"IsHoliday_x\" and \"IsHoliday_y\" is the same(Because it looks similar)\n",
    "df['IsHoliday_x'].isin(df['IsHoliday_y']).all()"
   ],
   "metadata": {
    "collapsed": false,
    "ExecuteTime": {
     "end_time": "2024-11-09T04:12:55.395198800Z",
     "start_time": "2024-11-09T04:12:55.272406600Z"
    }
   },
   "id": "10e549f95bb6bb67"
  },
  {
   "cell_type": "code",
   "execution_count": 20,
   "outputs": [
    {
     "name": "stdout",
     "output_type": "stream",
     "text": [
      "<class 'pandas.core.frame.DataFrame'>\n",
      "RangeIndex: 421570 entries, 0 to 421569\n",
      "Data columns (total 16 columns):\n",
      " #   Column        Non-Null Count   Dtype         \n",
      "---  ------        --------------   -----         \n",
      " 0   Store         421570 non-null  object        \n",
      " 1   Date          421570 non-null  datetime64[ns]\n",
      " 2   Temperature   421570 non-null  float64       \n",
      " 3   Fuel_Price    421570 non-null  float64       \n",
      " 4   MarkDown1     421570 non-null  float64       \n",
      " 5   MarkDown2     421570 non-null  float64       \n",
      " 6   MarkDown3     421570 non-null  float64       \n",
      " 7   MarkDown4     421570 non-null  float64       \n",
      " 8   MarkDown5     421570 non-null  float64       \n",
      " 9   CPI           421570 non-null  float64       \n",
      " 10  Unemployment  421570 non-null  float64       \n",
      " 11  IsHoliday     421570 non-null  bool          \n",
      " 12  Dept          421570 non-null  int64         \n",
      " 13  Weekly_Sales  421570 non-null  float64       \n",
      " 14  Store_Type    421570 non-null  object        \n",
      " 15  Store_Size    421570 non-null  int64         \n",
      "dtypes: bool(1), datetime64[ns](1), float64(10), int64(2), object(2)\n",
      "memory usage: 48.6+ MB\n"
     ]
    }
   ],
   "source": [
    "# Dropping one column and rename other to \"IsHoliday\" because they are the same\n",
    "df.drop(columns='IsHoliday_y', inplace=True)\n",
    "df.rename(columns={\"IsHoliday_x\" : \"IsHoliday\"}, inplace=True)\n",
    "df.info()"
   ],
   "metadata": {
    "collapsed": false,
    "ExecuteTime": {
     "end_time": "2024-11-09T04:12:55.418512800Z",
     "start_time": "2024-11-09T04:12:55.278245100Z"
    }
   },
   "id": "5ef6f3fd6a7600c9"
  },
  {
   "cell_type": "markdown",
   "source": [
    "### 4. Checking for outliers or any abnormalities"
   ],
   "metadata": {
    "collapsed": false
   },
   "id": "d55089e11b949507"
  },
  {
   "cell_type": "code",
   "execution_count": 21,
   "outputs": [
    {
     "data": {
      "text/plain": "       Store       Date  Temperature  Fuel_Price  MarkDown1  MarkDown2  \\\n188        1 2010-02-19        39.93       2.514       0.00       0.00   \n406        1 2010-03-12        57.79       2.667       0.00       0.00   \n2549       1 2010-10-08        63.93       2.633       0.00       0.00   \n3632       1 2011-01-21        44.04       3.016       0.00       0.00   \n4132       1 2011-03-11        53.56       3.459       0.00       0.00   \n...      ...        ...          ...         ...        ...        ...   \n420066    45 2012-05-25        67.21       3.798    5370.39       0.00   \n420403    45 2012-06-29        75.22       3.506    3291.36     425.60   \n420736    45 2012-08-03        76.58       3.654   24853.05      39.56   \n421007    45 2012-08-31        75.09       3.867   23641.30       6.00   \n421142    45 2012-09-14        67.87       3.948   11407.95       0.00   \n\n        MarkDown3  MarkDown4  MarkDown5         CPI  Unemployment  IsHoliday  \\\n188          0.00       0.00       0.00  211.289143         8.106      False   \n406          0.00       0.00       0.00  211.380643         8.106      False   \n2549         0.00       0.00       0.00  211.746754         7.838      False   \n3632         0.00       0.00       0.00  211.827234         7.742      False   \n4132         0.00       0.00       0.00  214.111056         7.742      False   \n...           ...        ...        ...         ...           ...        ...   \n420066     361.22    1287.62    2461.81  191.002810         8.567      False   \n420403       0.00     314.88    2255.34  191.099246         8.567      False   \n420736      17.96   11142.69    2768.32  191.164090         8.684      False   \n421007      92.93    6988.31    3992.13  191.461281         8.684      False   \n421142       4.30    3421.72    5268.92  191.699850         8.684      False   \n\n        Dept  Weekly_Sales Store_Type  Store_Size  \n188       47       -863.00          A      151315  \n406       47       -698.00          A      151315  \n2549      47        -58.00          A      151315  \n3632      54        -50.00          A      151315  \n4132      47          0.00          A      151315  \n...      ...           ...        ...         ...  \n420066    49         -4.97          B      118221  \n420403    49        -34.00          B      118221  \n420736    49         -1.91          B      118221  \n421007    54          0.00          B      118221  \n421142    49         -6.83          B      118221  \n\n[1358 rows x 16 columns]",
      "text/html": "<div>\n<style scoped>\n    .dataframe tbody tr th:only-of-type {\n        vertical-align: middle;\n    }\n\n    .dataframe tbody tr th {\n        vertical-align: top;\n    }\n\n    .dataframe thead th {\n        text-align: right;\n    }\n</style>\n<table border=\"1\" class=\"dataframe\">\n  <thead>\n    <tr style=\"text-align: right;\">\n      <th></th>\n      <th>Store</th>\n      <th>Date</th>\n      <th>Temperature</th>\n      <th>Fuel_Price</th>\n      <th>MarkDown1</th>\n      <th>MarkDown2</th>\n      <th>MarkDown3</th>\n      <th>MarkDown4</th>\n      <th>MarkDown5</th>\n      <th>CPI</th>\n      <th>Unemployment</th>\n      <th>IsHoliday</th>\n      <th>Dept</th>\n      <th>Weekly_Sales</th>\n      <th>Store_Type</th>\n      <th>Store_Size</th>\n    </tr>\n  </thead>\n  <tbody>\n    <tr>\n      <th>188</th>\n      <td>1</td>\n      <td>2010-02-19</td>\n      <td>39.93</td>\n      <td>2.514</td>\n      <td>0.00</td>\n      <td>0.00</td>\n      <td>0.00</td>\n      <td>0.00</td>\n      <td>0.00</td>\n      <td>211.289143</td>\n      <td>8.106</td>\n      <td>False</td>\n      <td>47</td>\n      <td>-863.00</td>\n      <td>A</td>\n      <td>151315</td>\n    </tr>\n    <tr>\n      <th>406</th>\n      <td>1</td>\n      <td>2010-03-12</td>\n      <td>57.79</td>\n      <td>2.667</td>\n      <td>0.00</td>\n      <td>0.00</td>\n      <td>0.00</td>\n      <td>0.00</td>\n      <td>0.00</td>\n      <td>211.380643</td>\n      <td>8.106</td>\n      <td>False</td>\n      <td>47</td>\n      <td>-698.00</td>\n      <td>A</td>\n      <td>151315</td>\n    </tr>\n    <tr>\n      <th>2549</th>\n      <td>1</td>\n      <td>2010-10-08</td>\n      <td>63.93</td>\n      <td>2.633</td>\n      <td>0.00</td>\n      <td>0.00</td>\n      <td>0.00</td>\n      <td>0.00</td>\n      <td>0.00</td>\n      <td>211.746754</td>\n      <td>7.838</td>\n      <td>False</td>\n      <td>47</td>\n      <td>-58.00</td>\n      <td>A</td>\n      <td>151315</td>\n    </tr>\n    <tr>\n      <th>3632</th>\n      <td>1</td>\n      <td>2011-01-21</td>\n      <td>44.04</td>\n      <td>3.016</td>\n      <td>0.00</td>\n      <td>0.00</td>\n      <td>0.00</td>\n      <td>0.00</td>\n      <td>0.00</td>\n      <td>211.827234</td>\n      <td>7.742</td>\n      <td>False</td>\n      <td>54</td>\n      <td>-50.00</td>\n      <td>A</td>\n      <td>151315</td>\n    </tr>\n    <tr>\n      <th>4132</th>\n      <td>1</td>\n      <td>2011-03-11</td>\n      <td>53.56</td>\n      <td>3.459</td>\n      <td>0.00</td>\n      <td>0.00</td>\n      <td>0.00</td>\n      <td>0.00</td>\n      <td>0.00</td>\n      <td>214.111056</td>\n      <td>7.742</td>\n      <td>False</td>\n      <td>47</td>\n      <td>0.00</td>\n      <td>A</td>\n      <td>151315</td>\n    </tr>\n    <tr>\n      <th>...</th>\n      <td>...</td>\n      <td>...</td>\n      <td>...</td>\n      <td>...</td>\n      <td>...</td>\n      <td>...</td>\n      <td>...</td>\n      <td>...</td>\n      <td>...</td>\n      <td>...</td>\n      <td>...</td>\n      <td>...</td>\n      <td>...</td>\n      <td>...</td>\n      <td>...</td>\n      <td>...</td>\n    </tr>\n    <tr>\n      <th>420066</th>\n      <td>45</td>\n      <td>2012-05-25</td>\n      <td>67.21</td>\n      <td>3.798</td>\n      <td>5370.39</td>\n      <td>0.00</td>\n      <td>361.22</td>\n      <td>1287.62</td>\n      <td>2461.81</td>\n      <td>191.002810</td>\n      <td>8.567</td>\n      <td>False</td>\n      <td>49</td>\n      <td>-4.97</td>\n      <td>B</td>\n      <td>118221</td>\n    </tr>\n    <tr>\n      <th>420403</th>\n      <td>45</td>\n      <td>2012-06-29</td>\n      <td>75.22</td>\n      <td>3.506</td>\n      <td>3291.36</td>\n      <td>425.60</td>\n      <td>0.00</td>\n      <td>314.88</td>\n      <td>2255.34</td>\n      <td>191.099246</td>\n      <td>8.567</td>\n      <td>False</td>\n      <td>49</td>\n      <td>-34.00</td>\n      <td>B</td>\n      <td>118221</td>\n    </tr>\n    <tr>\n      <th>420736</th>\n      <td>45</td>\n      <td>2012-08-03</td>\n      <td>76.58</td>\n      <td>3.654</td>\n      <td>24853.05</td>\n      <td>39.56</td>\n      <td>17.96</td>\n      <td>11142.69</td>\n      <td>2768.32</td>\n      <td>191.164090</td>\n      <td>8.684</td>\n      <td>False</td>\n      <td>49</td>\n      <td>-1.91</td>\n      <td>B</td>\n      <td>118221</td>\n    </tr>\n    <tr>\n      <th>421007</th>\n      <td>45</td>\n      <td>2012-08-31</td>\n      <td>75.09</td>\n      <td>3.867</td>\n      <td>23641.30</td>\n      <td>6.00</td>\n      <td>92.93</td>\n      <td>6988.31</td>\n      <td>3992.13</td>\n      <td>191.461281</td>\n      <td>8.684</td>\n      <td>False</td>\n      <td>54</td>\n      <td>0.00</td>\n      <td>B</td>\n      <td>118221</td>\n    </tr>\n    <tr>\n      <th>421142</th>\n      <td>45</td>\n      <td>2012-09-14</td>\n      <td>67.87</td>\n      <td>3.948</td>\n      <td>11407.95</td>\n      <td>0.00</td>\n      <td>4.30</td>\n      <td>3421.72</td>\n      <td>5268.92</td>\n      <td>191.699850</td>\n      <td>8.684</td>\n      <td>False</td>\n      <td>49</td>\n      <td>-6.83</td>\n      <td>B</td>\n      <td>118221</td>\n    </tr>\n  </tbody>\n</table>\n<p>1358 rows × 16 columns</p>\n</div>"
     },
     "execution_count": 21,
     "metadata": {},
     "output_type": "execute_result"
    }
   ],
   "source": [
    "# Check if there is any outliers/negative Weekly Sales values\n",
    "df.loc[df['Weekly_Sales']<=0]"
   ],
   "metadata": {
    "collapsed": false,
    "ExecuteTime": {
     "end_time": "2024-11-09T04:12:55.419516200Z",
     "start_time": "2024-11-09T04:12:55.320490200Z"
    }
   },
   "id": "4835a5e6147ac51e"
  },
  {
   "cell_type": "code",
   "execution_count": 22,
   "outputs": [
    {
     "data": {
      "text/plain": "(420212, 16)"
     },
     "execution_count": 22,
     "metadata": {},
     "output_type": "execute_result"
    }
   ],
   "source": [
    "# There are 1358 rows containing incorrect Weekly Sales values. It's 0.3% from total dataset. So it's safe to delete those. \n",
    "df = df.loc[df['Weekly_Sales'] > 0]\n",
    "df.shape"
   ],
   "metadata": {
    "collapsed": false,
    "ExecuteTime": {
     "end_time": "2024-11-09T04:12:55.452269600Z",
     "start_time": "2024-11-09T04:12:55.330448400Z"
    }
   },
   "id": "6ff7656df9509947"
  },
  {
   "cell_type": "code",
   "execution_count": 23,
   "outputs": [
    {
     "data": {
      "text/plain": "<Figure size 1000x600 with 1 Axes>",
      "image/png": "[encoded data removed]"
     },
     "metadata": {},
     "output_type": "display_data"
    }
   ],
   "source": [
    "# Check Weekly_Sales outliers\n",
    "import matplotlib.pyplot as plt\n",
    "\n",
    "plt.figure(figsize=(10, 6))\n",
    "plt.boxplot(df['Weekly_Sales'], vert=False)\n",
    "plt.title('Boxplot of Weekly Sales')\n",
    "plt.xlabel('Weekly Sales')\n",
    "plt.show()"
   ],
   "metadata": {
    "collapsed": false,
    "ExecuteTime": {
     "end_time": "2024-11-09T04:12:55.605640500Z",
     "start_time": "2024-11-09T04:12:55.352788100Z"
    }
   },
   "id": "dedb7245a1898e25"
  },
  {
   "cell_type": "markdown",
   "source": [
    "According to the BoxPlot, sales data have a right-skewed distribution, especially in retail where a few products or departments might have exceptionally high sales compared to others. There are most likely not to be removed, as this could be pointing to special events, holidays, or depending on regional area(Busy urban areas vs small cities). Therefore we will retain these data"
   ],
   "metadata": {
    "collapsed": false
   },
   "id": "8678d5acd8d297ab"
  },
  {
   "cell_type": "code",
   "execution_count": 24,
   "outputs": [
    {
     "data": {
      "text/plain": "       Store       Date  Temperature  Fuel_Price  MarkDown1  MarkDown2  \\\n0          1 2010-02-05        42.31       2.572       0.00       0.00   \n1          1 2010-02-05        42.31       2.572       0.00       0.00   \n2          1 2010-02-05        42.31       2.572       0.00       0.00   \n3          1 2010-02-05        42.31       2.572       0.00       0.00   \n4          1 2010-02-05        42.31       2.572       0.00       0.00   \n...      ...        ...          ...         ...        ...        ...   \n421565    45 2012-10-26        58.85       3.882    4018.91      58.08   \n421566    45 2012-10-26        58.85       3.882    4018.91      58.08   \n421567    45 2012-10-26        58.85       3.882    4018.91      58.08   \n421568    45 2012-10-26        58.85       3.882    4018.91      58.08   \n421569    45 2012-10-26        58.85       3.882    4018.91      58.08   \n\n        MarkDown3  MarkDown4  MarkDown5         CPI  Unemployment  IsHoliday  \\\n0             0.0       0.00       0.00  211.096358         8.106      False   \n1             0.0       0.00       0.00  211.096358         8.106      False   \n2             0.0       0.00       0.00  211.096358         8.106      False   \n3             0.0       0.00       0.00  211.096358         8.106      False   \n4             0.0       0.00       0.00  211.096358         8.106      False   \n...           ...        ...        ...         ...           ...        ...   \n421565      100.0     211.94     858.33  192.308899         8.667      False   \n421566      100.0     211.94     858.33  192.308899         8.667      False   \n421567      100.0     211.94     858.33  192.308899         8.667      False   \n421568      100.0     211.94     858.33  192.308899         8.667      False   \n421569      100.0     211.94     858.33  192.308899         8.667      False   \n\n        Dept  Weekly_Sales Store_Type  Store_Size  \n0          1      24924.50          A      151315  \n1          2      50605.27          A      151315  \n2          3      13740.12          A      151315  \n3          4      39954.04          A      151315  \n4          5      32229.38          A      151315  \n...      ...           ...        ...         ...  \n421565    93       2487.80          B      118221  \n421566    94       5203.31          B      118221  \n421567    95      56017.47          B      118221  \n421568    97       6817.48          B      118221  \n421569    98       1076.80          B      118221  \n\n[420212 rows x 16 columns]",
      "text/html": "<div>\n<style scoped>\n    .dataframe tbody tr th:only-of-type {\n        vertical-align: middle;\n    }\n\n    .dataframe tbody tr th {\n        vertical-align: top;\n    }\n\n    .dataframe thead th {\n        text-align: right;\n    }\n</style>\n<table border=\"1\" class=\"dataframe\">\n  <thead>\n    <tr style=\"text-align: right;\">\n      <th></th>\n      <th>Store</th>\n      <th>Date</th>\n      <th>Temperature</th>\n      <th>Fuel_Price</th>\n      <th>MarkDown1</th>\n      <th>MarkDown2</th>\n      <th>MarkDown3</th>\n      <th>MarkDown4</th>\n      <th>MarkDown5</th>\n      <th>CPI</th>\n      <th>Unemployment</th>\n      <th>IsHoliday</th>\n      <th>Dept</th>\n      <th>Weekly_Sales</th>\n      <th>Store_Type</th>\n      <th>Store_Size</th>\n    </tr>\n  </thead>\n  <tbody>\n    <tr>\n      <th>0</th>\n      <td>1</td>\n      <td>2010-02-05</td>\n      <td>42.31</td>\n      <td>2.572</td>\n      <td>0.00</td>\n      <td>0.00</td>\n      <td>0.0</td>\n      <td>0.00</td>\n      <td>0.00</td>\n      <td>211.096358</td>\n      <td>8.106</td>\n      <td>False</td>\n      <td>1</td>\n      <td>24924.50</td>\n      <td>A</td>\n      <td>151315</td>\n    </tr>\n    <tr>\n      <th>1</th>\n      <td>1</td>\n      <td>2010-02-05</td>\n      <td>42.31</td>\n      <td>2.572</td>\n      <td>0.00</td>\n      <td>0.00</td>\n      <td>0.0</td>\n      <td>0.00</td>\n      <td>0.00</td>\n      <td>211.096358</td>\n      <td>8.106</td>\n      <td>False</td>\n      <td>2</td>\n      <td>50605.27</td>\n      <td>A</td>\n      <td>151315</td>\n    </tr>\n    <tr>\n      <th>2</th>\n      <td>1</td>\n      <td>2010-02-05</td>\n      <td>42.31</td>\n      <td>2.572</td>\n      <td>0.00</td>\n      <td>0.00</td>\n      <td>0.0</td>\n      <td>0.00</td>\n      <td>0.00</td>\n      <td>211.096358</td>\n      <td>8.106</td>\n      <td>False</td>\n      <td>3</td>\n      <td>13740.12</td>\n      <td>A</td>\n      <td>151315</td>\n    </tr>\n    <tr>\n      <th>3</th>\n      <td>1</td>\n      <td>2010-02-05</td>\n      <td>42.31</td>\n      <td>2.572</td>\n      <td>0.00</td>\n      <td>0.00</td>\n      <td>0.0</td>\n      <td>0.00</td>\n      <td>0.00</td>\n      <td>211.096358</td>\n      <td>8.106</td>\n      <td>False</td>\n      <td>4</td>\n      <td>39954.04</td>\n      <td>A</td>\n      <td>151315</td>\n    </tr>\n    <tr>\n      <th>4</th>\n      <td>1</td>\n      <td>2010-02-05</td>\n      <td>42.31</td>\n      <td>2.572</td>\n      <td>0.00</td>\n      <td>0.00</td>\n      <td>0.0</td>\n      <td>0.00</td>\n      <td>0.00</td>\n      <td>211.096358</td>\n      <td>8.106</td>\n      <td>False</td>\n      <td>5</td>\n      <td>32229.38</td>\n      <td>A</td>\n      <td>151315</td>\n    </tr>\n    <tr>\n      <th>...</th>\n      <td>...</td>\n      <td>...</td>\n      <td>...</td>\n      <td>...</td>\n      <td>...</td>\n      <td>...</td>\n      <td>...</td>\n      <td>...</td>\n      <td>...</td>\n      <td>...</td>\n      <td>...</td>\n      <td>...</td>\n      <td>...</td>\n      <td>...</td>\n      <td>...</td>\n      <td>...</td>\n    </tr>\n    <tr>\n      <th>421565</th>\n      <td>45</td>\n      <td>2012-10-26</td>\n      <td>58.85</td>\n      <td>3.882</td>\n      <td>4018.91</td>\n      <td>58.08</td>\n      <td>100.0</td>\n      <td>211.94</td>\n      <td>858.33</td>\n      <td>192.308899</td>\n      <td>8.667</td>\n      <td>False</td>\n      <td>93</td>\n      <td>2487.80</td>\n      <td>B</td>\n      <td>118221</td>\n    </tr>\n    <tr>\n      <th>421566</th>\n      <td>45</td>\n      <td>2012-10-26</td>\n      <td>58.85</td>\n      <td>3.882</td>\n      <td>4018.91</td>\n      <td>58.08</td>\n      <td>100.0</td>\n      <td>211.94</td>\n      <td>858.33</td>\n      <td>192.308899</td>\n      <td>8.667</td>\n      <td>False</td>\n      <td>94</td>\n      <td>5203.31</td>\n      <td>B</td>\n      <td>118221</td>\n    </tr>\n    <tr>\n      <th>421567</th>\n      <td>45</td>\n      <td>2012-10-26</td>\n      <td>58.85</td>\n      <td>3.882</td>\n      <td>4018.91</td>\n      <td>58.08</td>\n      <td>100.0</td>\n      <td>211.94</td>\n      <td>858.33</td>\n      <td>192.308899</td>\n      <td>8.667</td>\n      <td>False</td>\n      <td>95</td>\n      <td>56017.47</td>\n      <td>B</td>\n      <td>118221</td>\n    </tr>\n    <tr>\n      <th>421568</th>\n      <td>45</td>\n      <td>2012-10-26</td>\n      <td>58.85</td>\n      <td>3.882</td>\n      <td>4018.91</td>\n      <td>58.08</td>\n      <td>100.0</td>\n      <td>211.94</td>\n      <td>858.33</td>\n      <td>192.308899</td>\n      <td>8.667</td>\n      <td>False</td>\n      <td>97</td>\n      <td>6817.48</td>\n      <td>B</td>\n      <td>118221</td>\n    </tr>\n    <tr>\n      <th>421569</th>\n      <td>45</td>\n      <td>2012-10-26</td>\n      <td>58.85</td>\n      <td>3.882</td>\n      <td>4018.91</td>\n      <td>58.08</td>\n      <td>100.0</td>\n      <td>211.94</td>\n      <td>858.33</td>\n      <td>192.308899</td>\n      <td>8.667</td>\n      <td>False</td>\n      <td>98</td>\n      <td>1076.80</td>\n      <td>B</td>\n      <td>118221</td>\n    </tr>\n  </tbody>\n</table>\n<p>420212 rows × 16 columns</p>\n</div>"
     },
     "execution_count": 24,
     "metadata": {},
     "output_type": "execute_result"
    }
   ],
   "source": [
    "df"
   ],
   "metadata": {
    "collapsed": false,
    "ExecuteTime": {
     "end_time": "2024-11-09T04:12:55.606646Z",
     "start_time": "2024-11-09T04:12:55.475455700Z"
    }
   },
   "id": "60f92248a8d74535"
  },
  {
   "cell_type": "code",
   "execution_count": 26,
   "outputs": [],
   "source": [
    "# Save dataset\n",
    "df.to_csv('./data/preprocessed/main.csv', sep='\\t', encoding='utf-8', index=False, header=True)"
   ],
   "metadata": {
    "collapsed": false,
    "ExecuteTime": {
     "end_time": "2024-11-09T04:13:04.099414900Z",
     "start_time": "2024-11-09T04:13:02.262504700Z"
    }
   },
   "id": "1414a90c55c70360"
  }
 ],
 "metadata": {
  "kernelspec": {
   "display_name": "Python 3",
   "language": "python",
   "name": "python3"
  },
  "language_info": {
   "codemirror_mode": {
    "name": "ipython",
    "version": 2
   },
   "file_extension": ".py",
   "mimetype": "text/x-python",
   "name": "python",
   "nbconvert_exporter": "python",
   "pygments_lexer": "ipython2",
   "version": "2.7.6"
  }
 },
 "nbformat": 4,
 "nbformat_minor": 5
}
