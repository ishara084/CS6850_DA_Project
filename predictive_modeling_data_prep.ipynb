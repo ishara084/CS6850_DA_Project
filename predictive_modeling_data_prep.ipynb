{
 "cells": [
  {
   "cell_type": "markdown",
   "id": "2a61cdd4fcf34165",
   "metadata": {
    "collapsed": false
   },
   "source": [
    "# Data Preparation "
   ]
  },
  {
   "cell_type": "code",
   "execution_count": 1,
   "outputs": [],
   "source": [
    "# Importing libraries\n",
    "\n",
    "import numpy as np\n",
    "import pandas as pd\n",
    "from sklearn.model_selection import cross_val_score\n",
    "from sklearn.model_selection import train_test_split\n",
    "from sklearn.preprocessing import OneHotEncoder\n",
    "from sklearn.preprocessing import StandardScaler\n",
    "from sklearn.linear_model import LinearRegression\n",
    "from sklearn.ensemble import RandomForestRegressor\n",
    "from sklearn.metrics import mean_squared_error, mean_absolute_error, r2_score\n",
    "from scipy import stats\n",
    "import matplotlib.pyplot as plt\n",
    "import seaborn as sns"
   ],
   "metadata": {
    "collapsed": false,
    "ExecuteTime": {
     "end_time": "2024-12-06T18:54:32.312962100Z",
     "start_time": "2024-12-06T18:54:30.832815300Z"
    }
   },
   "id": "initial_id"
  },
  {
   "cell_type": "code",
   "execution_count": 2,
   "outputs": [
    {
     "data": {
      "text/plain": "   Store        Date  Temperature  Fuel_Price  MarkDown1  MarkDown2  \\\n0      1  2010-02-05        42.31       2.572        NaN        NaN   \n1      1  2010-02-05        42.31       2.572        NaN        NaN   \n2      1  2010-02-05        42.31       2.572        NaN        NaN   \n3      1  2010-02-05        42.31       2.572        NaN        NaN   \n4      1  2010-02-05        42.31       2.572        NaN        NaN   \n\n   MarkDown3  MarkDown4  MarkDown5         CPI  Unemployment  IsHoliday  Dept  \\\n0        NaN        NaN        NaN  211.096358         8.106      False     1   \n1        NaN        NaN        NaN  211.096358         8.106      False     2   \n2        NaN        NaN        NaN  211.096358         8.106      False     3   \n3        NaN        NaN        NaN  211.096358         8.106      False     4   \n4        NaN        NaN        NaN  211.096358         8.106      False     5   \n\n   Weekly_Sales Store_Type  Store_Size  \n0      24924.50          A      151315  \n1      50605.27          A      151315  \n2      13740.12          A      151315  \n3      39954.04          A      151315  \n4      32229.38          A      151315  ",
      "text/html": "<div>\n<style scoped>\n    .dataframe tbody tr th:only-of-type {\n        vertical-align: middle;\n    }\n\n    .dataframe tbody tr th {\n        vertical-align: top;\n    }\n\n    .dataframe thead th {\n        text-align: right;\n    }\n</style>\n<table border=\"1\" class=\"dataframe\">\n  <thead>\n    <tr style=\"text-align: right;\">\n      <th></th>\n      <th>Store</th>\n      <th>Date</th>\n      <th>Temperature</th>\n      <th>Fuel_Price</th>\n      <th>MarkDown1</th>\n      <th>MarkDown2</th>\n      <th>MarkDown3</th>\n      <th>MarkDown4</th>\n      <th>MarkDown5</th>\n      <th>CPI</th>\n      <th>Unemployment</th>\n      <th>IsHoliday</th>\n      <th>Dept</th>\n      <th>Weekly_Sales</th>\n      <th>Store_Type</th>\n      <th>Store_Size</th>\n    </tr>\n  </thead>\n  <tbody>\n    <tr>\n      <th>0</th>\n      <td>1</td>\n      <td>2010-02-05</td>\n      <td>42.31</td>\n      <td>2.572</td>\n      <td>NaN</td>\n      <td>NaN</td>\n      <td>NaN</td>\n      <td>NaN</td>\n      <td>NaN</td>\n      <td>211.096358</td>\n      <td>8.106</td>\n      <td>False</td>\n      <td>1</td>\n      <td>24924.50</td>\n      <td>A</td>\n      <td>151315</td>\n    </tr>\n    <tr>\n      <th>1</th>\n      <td>1</td>\n      <td>2010-02-05</td>\n      <td>42.31</td>\n      <td>2.572</td>\n      <td>NaN</td>\n      <td>NaN</td>\n      <td>NaN</td>\n      <td>NaN</td>\n      <td>NaN</td>\n      <td>211.096358</td>\n      <td>8.106</td>\n      <td>False</td>\n      <td>2</td>\n      <td>50605.27</td>\n      <td>A</td>\n      <td>151315</td>\n    </tr>\n    <tr>\n      <th>2</th>\n      <td>1</td>\n      <td>2010-02-05</td>\n      <td>42.31</td>\n      <td>2.572</td>\n      <td>NaN</td>\n      <td>NaN</td>\n      <td>NaN</td>\n      <td>NaN</td>\n      <td>NaN</td>\n      <td>211.096358</td>\n      <td>8.106</td>\n      <td>False</td>\n      <td>3</td>\n      <td>13740.12</td>\n      <td>A</td>\n      <td>151315</td>\n    </tr>\n    <tr>\n      <th>3</th>\n      <td>1</td>\n      <td>2010-02-05</td>\n      <td>42.31</td>\n      <td>2.572</td>\n      <td>NaN</td>\n      <td>NaN</td>\n      <td>NaN</td>\n      <td>NaN</td>\n      <td>NaN</td>\n      <td>211.096358</td>\n      <td>8.106</td>\n      <td>False</td>\n      <td>4</td>\n      <td>39954.04</td>\n      <td>A</td>\n      <td>151315</td>\n    </tr>\n    <tr>\n      <th>4</th>\n      <td>1</td>\n      <td>2010-02-05</td>\n      <td>42.31</td>\n      <td>2.572</td>\n      <td>NaN</td>\n      <td>NaN</td>\n      <td>NaN</td>\n      <td>NaN</td>\n      <td>NaN</td>\n      <td>211.096358</td>\n      <td>8.106</td>\n      <td>False</td>\n      <td>5</td>\n      <td>32229.38</td>\n      <td>A</td>\n      <td>151315</td>\n    </tr>\n  </tbody>\n</table>\n</div>"
     },
     "execution_count": 2,
     "metadata": {},
     "output_type": "execute_result"
    }
   ],
   "source": [
    "# Load dataset\n",
    "df = pd.read_csv(\"data/preprocessed/main.csv\")\n",
    "df.head()"
   ],
   "metadata": {
    "collapsed": false,
    "ExecuteTime": {
     "end_time": "2024-12-06T18:54:32.656804500Z",
     "start_time": "2024-12-06T18:54:32.292967Z"
    }
   },
   "id": "1414a90c55c70360"
  },
  {
   "cell_type": "code",
   "execution_count": 3,
   "outputs": [
    {
     "name": "stdout",
     "output_type": "stream",
     "text": [
      "   Store        Date  Temperature  Fuel_Price         CPI  Unemployment  \\\n",
      "0      1  2010-02-05        42.31       2.572  211.096358         8.106   \n",
      "1      1  2010-02-05        42.31       2.572  211.096358         8.106   \n",
      "2      1  2010-02-05        42.31       2.572  211.096358         8.106   \n",
      "3      1  2010-02-05        42.31       2.572  211.096358         8.106   \n",
      "4      1  2010-02-05        42.31       2.572  211.096358         8.106   \n",
      "\n",
      "   IsHoliday  Dept  Weekly_Sales Store_Type  Store_Size  \n",
      "0      False     1      24924.50          A      151315  \n",
      "1      False     2      50605.27          A      151315  \n",
      "2      False     3      13740.12          A      151315  \n",
      "3      False     4      39954.04          A      151315  \n",
      "4      False     5      32229.38          A      151315  \n"
     ]
    }
   ],
   "source": [
    "# # Remove all MarkDown columns (Excluded from the analysis)\n",
    "markdown_columns = ['MarkDown1', 'MarkDown2', 'MarkDown3', 'MarkDown4', 'MarkDown5']\n",
    "df = df.drop(columns=markdown_columns)\n",
    "print(df.head())"
   ],
   "metadata": {
    "collapsed": false,
    "ExecuteTime": {
     "end_time": "2024-12-06T18:54:32.657806400Z",
     "start_time": "2024-12-06T18:54:32.635992400Z"
    }
   },
   "id": "d12543e62766049"
  },
  {
   "cell_type": "markdown",
   "source": [
    "# Feature Engineering"
   ],
   "metadata": {
    "collapsed": false
   },
   "id": "ae22444986608808"
  },
  {
   "cell_type": "markdown",
   "source": [
    "### Transform Temporal Data\n",
    "- Create Date-Based Features"
   ],
   "metadata": {
    "collapsed": false
   },
   "id": "178b0a2fe835d4a3"
  },
  {
   "cell_type": "code",
   "execution_count": 4,
   "outputs": [
    {
     "data": {
      "text/plain": "   Store  Temperature  Fuel_Price         CPI  Unemployment  IsHoliday  Dept  \\\n0      1        42.31       2.572  211.096358         8.106      False     1   \n1      1        42.31       2.572  211.096358         8.106      False     2   \n2      1        42.31       2.572  211.096358         8.106      False     3   \n3      1        42.31       2.572  211.096358         8.106      False     4   \n4      1        42.31       2.572  211.096358         8.106      False     5   \n\n   Weekly_Sales Store_Type  Store_Size  Month  Day  Week  \n0      24924.50          A      151315      2    5     5  \n1      50605.27          A      151315      2    5     5  \n2      13740.12          A      151315      2    5     5  \n3      39954.04          A      151315      2    5     5  \n4      32229.38          A      151315      2    5     5  ",
      "text/html": "<div>\n<style scoped>\n    .dataframe tbody tr th:only-of-type {\n        vertical-align: middle;\n    }\n\n    .dataframe tbody tr th {\n        vertical-align: top;\n    }\n\n    .dataframe thead th {\n        text-align: right;\n    }\n</style>\n<table border=\"1\" class=\"dataframe\">\n  <thead>\n    <tr style=\"text-align: right;\">\n      <th></th>\n      <th>Store</th>\n      <th>Temperature</th>\n      <th>Fuel_Price</th>\n      <th>CPI</th>\n      <th>Unemployment</th>\n      <th>IsHoliday</th>\n      <th>Dept</th>\n      <th>Weekly_Sales</th>\n      <th>Store_Type</th>\n      <th>Store_Size</th>\n      <th>Month</th>\n      <th>Day</th>\n      <th>Week</th>\n    </tr>\n  </thead>\n  <tbody>\n    <tr>\n      <th>0</th>\n      <td>1</td>\n      <td>42.31</td>\n      <td>2.572</td>\n      <td>211.096358</td>\n      <td>8.106</td>\n      <td>False</td>\n      <td>1</td>\n      <td>24924.50</td>\n      <td>A</td>\n      <td>151315</td>\n      <td>2</td>\n      <td>5</td>\n      <td>5</td>\n    </tr>\n    <tr>\n      <th>1</th>\n      <td>1</td>\n      <td>42.31</td>\n      <td>2.572</td>\n      <td>211.096358</td>\n      <td>8.106</td>\n      <td>False</td>\n      <td>2</td>\n      <td>50605.27</td>\n      <td>A</td>\n      <td>151315</td>\n      <td>2</td>\n      <td>5</td>\n      <td>5</td>\n    </tr>\n    <tr>\n      <th>2</th>\n      <td>1</td>\n      <td>42.31</td>\n      <td>2.572</td>\n      <td>211.096358</td>\n      <td>8.106</td>\n      <td>False</td>\n      <td>3</td>\n      <td>13740.12</td>\n      <td>A</td>\n      <td>151315</td>\n      <td>2</td>\n      <td>5</td>\n      <td>5</td>\n    </tr>\n    <tr>\n      <th>3</th>\n      <td>1</td>\n      <td>42.31</td>\n      <td>2.572</td>\n      <td>211.096358</td>\n      <td>8.106</td>\n      <td>False</td>\n      <td>4</td>\n      <td>39954.04</td>\n      <td>A</td>\n      <td>151315</td>\n      <td>2</td>\n      <td>5</td>\n      <td>5</td>\n    </tr>\n    <tr>\n      <th>4</th>\n      <td>1</td>\n      <td>42.31</td>\n      <td>2.572</td>\n      <td>211.096358</td>\n      <td>8.106</td>\n      <td>False</td>\n      <td>5</td>\n      <td>32229.38</td>\n      <td>A</td>\n      <td>151315</td>\n      <td>2</td>\n      <td>5</td>\n      <td>5</td>\n    </tr>\n  </tbody>\n</table>\n</div>"
     },
     "execution_count": 4,
     "metadata": {},
     "output_type": "execute_result"
    }
   ],
   "source": [
    "df['Month'] = pd.to_datetime(df['Date']).dt.month\n",
    "df['Day'] = pd.to_datetime(df['Date']).dt.day\n",
    "df['Week'] = pd.to_datetime(df['Date']).dt.isocalendar().week\n",
    "df = df.drop(columns=['Date'])  # Drop the original date column\n",
    "df.head()"
   ],
   "metadata": {
    "collapsed": false,
    "ExecuteTime": {
     "end_time": "2024-12-06T18:54:32.812066800Z",
     "start_time": "2024-12-06T18:54:32.651796700Z"
    }
   },
   "id": "99de291113072015"
  },
  {
   "cell_type": "markdown",
   "source": [
    "### Encode Categorical Variables\n",
    "Encoding categorical variables using One-Hot Encoding"
   ],
   "metadata": {
    "collapsed": false
   },
   "id": "78b8a6b268151120"
  },
  {
   "cell_type": "code",
   "execution_count": 5,
   "outputs": [
    {
     "data": {
      "text/plain": "   Temperature  Fuel_Price         CPI  Unemployment  IsHoliday  Dept  \\\n0        42.31       2.572  211.096358         8.106      False     1   \n1        42.31       2.572  211.096358         8.106      False     2   \n2        42.31       2.572  211.096358         8.106      False     3   \n3        42.31       2.572  211.096358         8.106      False     4   \n4        42.31       2.572  211.096358         8.106      False     5   \n\n   Weekly_Sales  Store_Size  Month  Day  ...  Store_36  Store_37  Store_38  \\\n0      24924.50      151315      2    5  ...     False     False     False   \n1      50605.27      151315      2    5  ...     False     False     False   \n2      13740.12      151315      2    5  ...     False     False     False   \n3      39954.04      151315      2    5  ...     False     False     False   \n4      32229.38      151315      2    5  ...     False     False     False   \n\n   Store_39  Store_40  Store_41  Store_42  Store_43  Store_44  Store_45  \n0     False     False     False     False     False     False     False  \n1     False     False     False     False     False     False     False  \n2     False     False     False     False     False     False     False  \n3     False     False     False     False     False     False     False  \n4     False     False     False     False     False     False     False  \n\n[5 rows x 59 columns]",
      "text/html": "<div>\n<style scoped>\n    .dataframe tbody tr th:only-of-type {\n        vertical-align: middle;\n    }\n\n    .dataframe tbody tr th {\n        vertical-align: top;\n    }\n\n    .dataframe thead th {\n        text-align: right;\n    }\n</style>\n<table border=\"1\" class=\"dataframe\">\n  <thead>\n    <tr style=\"text-align: right;\">\n      <th></th>\n      <th>Temperature</th>\n      <th>Fuel_Price</th>\n      <th>CPI</th>\n      <th>Unemployment</th>\n      <th>IsHoliday</th>\n      <th>Dept</th>\n      <th>Weekly_Sales</th>\n      <th>Store_Size</th>\n      <th>Month</th>\n      <th>Day</th>\n      <th>...</th>\n      <th>Store_36</th>\n      <th>Store_37</th>\n      <th>Store_38</th>\n      <th>Store_39</th>\n      <th>Store_40</th>\n      <th>Store_41</th>\n      <th>Store_42</th>\n      <th>Store_43</th>\n      <th>Store_44</th>\n      <th>Store_45</th>\n    </tr>\n  </thead>\n  <tbody>\n    <tr>\n      <th>0</th>\n      <td>42.31</td>\n      <td>2.572</td>\n      <td>211.096358</td>\n      <td>8.106</td>\n      <td>False</td>\n      <td>1</td>\n      <td>24924.50</td>\n      <td>151315</td>\n      <td>2</td>\n      <td>5</td>\n      <td>...</td>\n      <td>False</td>\n      <td>False</td>\n      <td>False</td>\n      <td>False</td>\n      <td>False</td>\n      <td>False</td>\n      <td>False</td>\n      <td>False</td>\n      <td>False</td>\n      <td>False</td>\n    </tr>\n    <tr>\n      <th>1</th>\n      <td>42.31</td>\n      <td>2.572</td>\n      <td>211.096358</td>\n      <td>8.106</td>\n      <td>False</td>\n      <td>2</td>\n      <td>50605.27</td>\n      <td>151315</td>\n      <td>2</td>\n      <td>5</td>\n      <td>...</td>\n      <td>False</td>\n      <td>False</td>\n      <td>False</td>\n      <td>False</td>\n      <td>False</td>\n      <td>False</td>\n      <td>False</td>\n      <td>False</td>\n      <td>False</td>\n      <td>False</td>\n    </tr>\n    <tr>\n      <th>2</th>\n      <td>42.31</td>\n      <td>2.572</td>\n      <td>211.096358</td>\n      <td>8.106</td>\n      <td>False</td>\n      <td>3</td>\n      <td>13740.12</td>\n      <td>151315</td>\n      <td>2</td>\n      <td>5</td>\n      <td>...</td>\n      <td>False</td>\n      <td>False</td>\n      <td>False</td>\n      <td>False</td>\n      <td>False</td>\n      <td>False</td>\n      <td>False</td>\n      <td>False</td>\n      <td>False</td>\n      <td>False</td>\n    </tr>\n    <tr>\n      <th>3</th>\n      <td>42.31</td>\n      <td>2.572</td>\n      <td>211.096358</td>\n      <td>8.106</td>\n      <td>False</td>\n      <td>4</td>\n      <td>39954.04</td>\n      <td>151315</td>\n      <td>2</td>\n      <td>5</td>\n      <td>...</td>\n      <td>False</td>\n      <td>False</td>\n      <td>False</td>\n      <td>False</td>\n      <td>False</td>\n      <td>False</td>\n      <td>False</td>\n      <td>False</td>\n      <td>False</td>\n      <td>False</td>\n    </tr>\n    <tr>\n      <th>4</th>\n      <td>42.31</td>\n      <td>2.572</td>\n      <td>211.096358</td>\n      <td>8.106</td>\n      <td>False</td>\n      <td>5</td>\n      <td>32229.38</td>\n      <td>151315</td>\n      <td>2</td>\n      <td>5</td>\n      <td>...</td>\n      <td>False</td>\n      <td>False</td>\n      <td>False</td>\n      <td>False</td>\n      <td>False</td>\n      <td>False</td>\n      <td>False</td>\n      <td>False</td>\n      <td>False</td>\n      <td>False</td>\n    </tr>\n  </tbody>\n</table>\n<p>5 rows × 59 columns</p>\n</div>"
     },
     "execution_count": 5,
     "metadata": {},
     "output_type": "execute_result"
    }
   ],
   "source": [
    "df = pd.get_dummies(df, columns=['Store_Type', 'Store'])\n",
    "df.head()"
   ],
   "metadata": {
    "collapsed": false,
    "ExecuteTime": {
     "end_time": "2024-12-06T18:54:32.903622100Z",
     "start_time": "2024-12-06T18:54:32.791432300Z"
    }
   },
   "id": "f005709b29087b1e"
  },
  {
   "cell_type": "markdown",
   "source": [
    "### Standardize/Scale Features\n",
    "Standardize numerical features like Temperature, Fuel_Price, CPI, and Unemployment to improve model performance"
   ],
   "metadata": {
    "collapsed": false
   },
   "id": "70d2e22dbd02743f"
  },
  {
   "cell_type": "code",
   "execution_count": 6,
   "outputs": [
    {
     "data": {
      "text/plain": "   Temperature  Fuel_Price       CPI  Unemployment  IsHoliday  Dept  \\\n0    -0.963831    -1.72052  1.018422      0.078331      False     1   \n1    -0.963831    -1.72052  1.018422      0.078331      False     2   \n2    -0.963831    -1.72052  1.018422      0.078331      False     3   \n3    -0.963831    -1.72052  1.018422      0.078331      False     4   \n4    -0.963831    -1.72052  1.018422      0.078331      False     5   \n\n   Weekly_Sales  Store_Size  Month  Day  ...  Store_36  Store_37  Store_38  \\\n0      24924.50    0.238802      2    5  ...     False     False     False   \n1      50605.27    0.238802      2    5  ...     False     False     False   \n2      13740.12    0.238802      2    5  ...     False     False     False   \n3      39954.04    0.238802      2    5  ...     False     False     False   \n4      32229.38    0.238802      2    5  ...     False     False     False   \n\n   Store_39  Store_40  Store_41  Store_42  Store_43  Store_44  Store_45  \n0     False     False     False     False     False     False     False  \n1     False     False     False     False     False     False     False  \n2     False     False     False     False     False     False     False  \n3     False     False     False     False     False     False     False  \n4     False     False     False     False     False     False     False  \n\n[5 rows x 59 columns]",
      "text/html": "<div>\n<style scoped>\n    .dataframe tbody tr th:only-of-type {\n        vertical-align: middle;\n    }\n\n    .dataframe tbody tr th {\n        vertical-align: top;\n    }\n\n    .dataframe thead th {\n        text-align: right;\n    }\n</style>\n<table border=\"1\" class=\"dataframe\">\n  <thead>\n    <tr style=\"text-align: right;\">\n      <th></th>\n      <th>Temperature</th>\n      <th>Fuel_Price</th>\n      <th>CPI</th>\n      <th>Unemployment</th>\n      <th>IsHoliday</th>\n      <th>Dept</th>\n      <th>Weekly_Sales</th>\n      <th>Store_Size</th>\n      <th>Month</th>\n      <th>Day</th>\n      <th>...</th>\n      <th>Store_36</th>\n      <th>Store_37</th>\n      <th>Store_38</th>\n      <th>Store_39</th>\n      <th>Store_40</th>\n      <th>Store_41</th>\n      <th>Store_42</th>\n      <th>Store_43</th>\n      <th>Store_44</th>\n      <th>Store_45</th>\n    </tr>\n  </thead>\n  <tbody>\n    <tr>\n      <th>0</th>\n      <td>-0.963831</td>\n      <td>-1.72052</td>\n      <td>1.018422</td>\n      <td>0.078331</td>\n      <td>False</td>\n      <td>1</td>\n      <td>24924.50</td>\n      <td>0.238802</td>\n      <td>2</td>\n      <td>5</td>\n      <td>...</td>\n      <td>False</td>\n      <td>False</td>\n      <td>False</td>\n      <td>False</td>\n      <td>False</td>\n      <td>False</td>\n      <td>False</td>\n      <td>False</td>\n      <td>False</td>\n      <td>False</td>\n    </tr>\n    <tr>\n      <th>1</th>\n      <td>-0.963831</td>\n      <td>-1.72052</td>\n      <td>1.018422</td>\n      <td>0.078331</td>\n      <td>False</td>\n      <td>2</td>\n      <td>50605.27</td>\n      <td>0.238802</td>\n      <td>2</td>\n      <td>5</td>\n      <td>...</td>\n      <td>False</td>\n      <td>False</td>\n      <td>False</td>\n      <td>False</td>\n      <td>False</td>\n      <td>False</td>\n      <td>False</td>\n      <td>False</td>\n      <td>False</td>\n      <td>False</td>\n    </tr>\n    <tr>\n      <th>2</th>\n      <td>-0.963831</td>\n      <td>-1.72052</td>\n      <td>1.018422</td>\n      <td>0.078331</td>\n      <td>False</td>\n      <td>3</td>\n      <td>13740.12</td>\n      <td>0.238802</td>\n      <td>2</td>\n      <td>5</td>\n      <td>...</td>\n      <td>False</td>\n      <td>False</td>\n      <td>False</td>\n      <td>False</td>\n      <td>False</td>\n      <td>False</td>\n      <td>False</td>\n      <td>False</td>\n      <td>False</td>\n      <td>False</td>\n    </tr>\n    <tr>\n      <th>3</th>\n      <td>-0.963831</td>\n      <td>-1.72052</td>\n      <td>1.018422</td>\n      <td>0.078331</td>\n      <td>False</td>\n      <td>4</td>\n      <td>39954.04</td>\n      <td>0.238802</td>\n      <td>2</td>\n      <td>5</td>\n      <td>...</td>\n      <td>False</td>\n      <td>False</td>\n      <td>False</td>\n      <td>False</td>\n      <td>False</td>\n      <td>False</td>\n      <td>False</td>\n      <td>False</td>\n      <td>False</td>\n      <td>False</td>\n    </tr>\n    <tr>\n      <th>4</th>\n      <td>-0.963831</td>\n      <td>-1.72052</td>\n      <td>1.018422</td>\n      <td>0.078331</td>\n      <td>False</td>\n      <td>5</td>\n      <td>32229.38</td>\n      <td>0.238802</td>\n      <td>2</td>\n      <td>5</td>\n      <td>...</td>\n      <td>False</td>\n      <td>False</td>\n      <td>False</td>\n      <td>False</td>\n      <td>False</td>\n      <td>False</td>\n      <td>False</td>\n      <td>False</td>\n      <td>False</td>\n      <td>False</td>\n    </tr>\n  </tbody>\n</table>\n<p>5 rows × 59 columns</p>\n</div>"
     },
     "execution_count": 6,
     "metadata": {},
     "output_type": "execute_result"
    }
   ],
   "source": [
    "scaler = StandardScaler()\n",
    "\n",
    "# Define columns to scale\n",
    "columns_to_scale = ['Temperature', 'Fuel_Price', 'CPI', 'Unemployment', 'Store_Size']\n",
    "\n",
    "df[columns_to_scale] = scaler.fit_transform(df[columns_to_scale])\n",
    "\n",
    "df.head()"
   ],
   "metadata": {
    "collapsed": false,
    "ExecuteTime": {
     "end_time": "2024-12-06T18:54:32.996188600Z",
     "start_time": "2024-12-06T18:54:32.851630400Z"
    }
   },
   "id": "9ff1573b23081649"
  },
  {
   "cell_type": "code",
   "execution_count": 7,
   "outputs": [],
   "source": [
    "# Save the ML ready dataset\n",
    "df.to_csv('./data/preprocessed/main_ML_ready.csv', index=False, header=True)"
   ],
   "metadata": {
    "collapsed": false,
    "ExecuteTime": {
     "end_time": "2024-12-06T18:54:37.108648100Z",
     "start_time": "2024-12-06T18:54:32.903622100Z"
    }
   },
   "id": "a3398663a0c732f2"
  }
 ],
 "metadata": {
  "kernelspec": {
   "display_name": "Python 3 (ipykernel)",
   "language": "python",
   "name": "python3"
  },
  "language_info": {
   "codemirror_mode": {
    "name": "ipython",
    "version": 3
   },
   "file_extension": ".py",
   "mimetype": "text/x-python",
   "name": "python",
   "nbconvert_exporter": "python",
   "pygments_lexer": "ipython3",
   "version": "3.11.6"
  }
 },
 "nbformat": 4,
 "nbformat_minor": 5
}
