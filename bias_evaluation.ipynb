{
 "cells": [
  {
   "cell_type": "markdown",
   "source": [
    "##  Model Bias and Fairness Evaluation\n",
    "Evaluate error metrics(MAE and RMSE) for different subgroups"
   ],
   "metadata": {
    "collapsed": false
   },
   "id": "44e6d30cd7fd1ca1"
  },
  {
   "cell_type": "code",
   "execution_count": 1,
   "id": "initial_id",
   "metadata": {
    "ExecuteTime": {
     "end_time": "2024-12-03T06:30:55.831471100Z",
     "start_time": "2024-12-03T06:30:53.794401800Z"
    },
    "collapsed": true,
    "jupyter": {
     "outputs_hidden": true
    }
   },
   "outputs": [],
   "source": [
    "import pandas as pd\n",
    "import numpy as np\n",
    "from sklearn.metrics import mean_squared_error, mean_absolute_error, r2_score\n",
    "import matplotlib.pyplot as plt\n",
    "from sklearn.tree import DecisionTreeRegressor\n",
    "from xgboost import XGBRegressor\n",
    "from sklearn.ensemble import RandomForestRegressor\n",
    "import seaborn as sns\n",
    "\n",
    "# Custom libraries/methods\n",
    "from libs import split_data, evaluate_model"
   ]
  },
  {
   "cell_type": "code",
   "execution_count": 9,
   "id": "a9c36292f6408685",
   "metadata": {
    "ExecuteTime": {
     "end_time": "2024-11-28T20:16:33.244133100Z",
     "start_time": "2024-11-28T20:16:32.863356400Z"
    },
    "collapsed": false
   },
   "outputs": [
    {
     "data": {
      "text/html": [
       "<div>\n",
       "<style scoped>\n",
       "    .dataframe tbody tr th:only-of-type {\n",
       "        vertical-align: middle;\n",
       "    }\n",
       "\n",
       "    .dataframe tbody tr th {\n",
       "        vertical-align: top;\n",
       "    }\n",
       "\n",
       "    .dataframe thead th {\n",
       "        text-align: right;\n",
       "    }\n",
       "</style>\n",
       "<table border=\"1\" class=\"dataframe\">\n",
       "  <thead>\n",
       "    <tr style=\"text-align: right;\">\n",
       "      <th></th>\n",
       "      <th>Store</th>\n",
       "      <th>Temperature</th>\n",
       "      <th>Fuel_Price</th>\n",
       "      <th>CPI</th>\n",
       "      <th>Unemployment</th>\n",
       "      <th>IsHoliday</th>\n",
       "      <th>Dept</th>\n",
       "      <th>Weekly_Sales</th>\n",
       "      <th>Store_Size</th>\n",
       "      <th>Year</th>\n",
       "      <th>Month</th>\n",
       "      <th>Day</th>\n",
       "      <th>Week</th>\n",
       "      <th>Store_Type_A</th>\n",
       "      <th>Store_Type_B</th>\n",
       "      <th>Store_Type_C</th>\n",
       "    </tr>\n",
       "  </thead>\n",
       "  <tbody>\n",
       "    <tr>\n",
       "      <th>0</th>\n",
       "      <td>1</td>\n",
       "      <td>-0.963831</td>\n",
       "      <td>-1.72052</td>\n",
       "      <td>1.018422</td>\n",
       "      <td>0.078331</td>\n",
       "      <td>False</td>\n",
       "      <td>1</td>\n",
       "      <td>24924.50</td>\n",
       "      <td>0.238802</td>\n",
       "      <td>2010</td>\n",
       "      <td>2</td>\n",
       "      <td>5</td>\n",
       "      <td>5</td>\n",
       "      <td>True</td>\n",
       "      <td>False</td>\n",
       "      <td>False</td>\n",
       "    </tr>\n",
       "    <tr>\n",
       "      <th>1</th>\n",
       "      <td>1</td>\n",
       "      <td>-0.963831</td>\n",
       "      <td>-1.72052</td>\n",
       "      <td>1.018422</td>\n",
       "      <td>0.078331</td>\n",
       "      <td>False</td>\n",
       "      <td>2</td>\n",
       "      <td>50605.27</td>\n",
       "      <td>0.238802</td>\n",
       "      <td>2010</td>\n",
       "      <td>2</td>\n",
       "      <td>5</td>\n",
       "      <td>5</td>\n",
       "      <td>True</td>\n",
       "      <td>False</td>\n",
       "      <td>False</td>\n",
       "    </tr>\n",
       "    <tr>\n",
       "      <th>2</th>\n",
       "      <td>1</td>\n",
       "      <td>-0.963831</td>\n",
       "      <td>-1.72052</td>\n",
       "      <td>1.018422</td>\n",
       "      <td>0.078331</td>\n",
       "      <td>False</td>\n",
       "      <td>3</td>\n",
       "      <td>13740.12</td>\n",
       "      <td>0.238802</td>\n",
       "      <td>2010</td>\n",
       "      <td>2</td>\n",
       "      <td>5</td>\n",
       "      <td>5</td>\n",
       "      <td>True</td>\n",
       "      <td>False</td>\n",
       "      <td>False</td>\n",
       "    </tr>\n",
       "    <tr>\n",
       "      <th>3</th>\n",
       "      <td>1</td>\n",
       "      <td>-0.963831</td>\n",
       "      <td>-1.72052</td>\n",
       "      <td>1.018422</td>\n",
       "      <td>0.078331</td>\n",
       "      <td>False</td>\n",
       "      <td>4</td>\n",
       "      <td>39954.04</td>\n",
       "      <td>0.238802</td>\n",
       "      <td>2010</td>\n",
       "      <td>2</td>\n",
       "      <td>5</td>\n",
       "      <td>5</td>\n",
       "      <td>True</td>\n",
       "      <td>False</td>\n",
       "      <td>False</td>\n",
       "    </tr>\n",
       "    <tr>\n",
       "      <th>4</th>\n",
       "      <td>1</td>\n",
       "      <td>-0.963831</td>\n",
       "      <td>-1.72052</td>\n",
       "      <td>1.018422</td>\n",
       "      <td>0.078331</td>\n",
       "      <td>False</td>\n",
       "      <td>5</td>\n",
       "      <td>32229.38</td>\n",
       "      <td>0.238802</td>\n",
       "      <td>2010</td>\n",
       "      <td>2</td>\n",
       "      <td>5</td>\n",
       "      <td>5</td>\n",
       "      <td>True</td>\n",
       "      <td>False</td>\n",
       "      <td>False</td>\n",
       "    </tr>\n",
       "  </tbody>\n",
       "</table>\n",
       "</div>"
      ],
      "text/plain": [
       "   Store  Temperature  Fuel_Price       CPI  Unemployment  IsHoliday  Dept  \\\n",
       "0      1    -0.963831    -1.72052  1.018422      0.078331      False     1   \n",
       "1      1    -0.963831    -1.72052  1.018422      0.078331      False     2   \n",
       "2      1    -0.963831    -1.72052  1.018422      0.078331      False     3   \n",
       "3      1    -0.963831    -1.72052  1.018422      0.078331      False     4   \n",
       "4      1    -0.963831    -1.72052  1.018422      0.078331      False     5   \n",
       "\n",
       "   Weekly_Sales  Store_Size  Year  Month  Day  Week  Store_Type_A  \\\n",
       "0      24924.50    0.238802  2010      2    5     5          True   \n",
       "1      50605.27    0.238802  2010      2    5     5          True   \n",
       "2      13740.12    0.238802  2010      2    5     5          True   \n",
       "3      39954.04    0.238802  2010      2    5     5          True   \n",
       "4      32229.38    0.238802  2010      2    5     5          True   \n",
       "\n",
       "   Store_Type_B  Store_Type_C  \n",
       "0         False         False  \n",
       "1         False         False  \n",
       "2         False         False  \n",
       "3         False         False  \n",
       "4         False         False  "
      ]
     },
     "execution_count": 9,
     "metadata": {},
     "output_type": "execute_result"
    }
   ],
   "source": [
    "# Load dataset\n",
    "df = pd.read_csv(\"data/preprocessed/main_ML_ready.csv\")\n",
    "df.head()"
   ]
  },
  {
   "cell_type": "code",
   "execution_count": 10,
   "id": "2f7605f7401d419d",
   "metadata": {
    "ExecuteTime": {
     "end_time": "2024-11-28T20:16:33.338139600Z",
     "start_time": "2024-11-28T20:16:33.244133100Z"
    },
    "collapsed": false
   },
   "outputs": [
    {
     "name": "stdout",
     "output_type": "stream",
     "text": [
      "X_train shape:  (336169, 15)\n",
      "y_train shape:  (336169,)\n",
      "X_test shape:  (84043, 15)\n",
      "y_test shape:  (84043,)\n"
     ]
    }
   ],
   "source": [
    "# Split the data\n",
    "X_train, X_test, y_train, y_test = split_data(df, target_column=\"Weekly_Sales\")\n",
    "print(\"X_train shape: \", X_train.shape)\n",
    "print(\"y_train shape: \", y_train.shape)\n",
    "print(\"X_test shape: \", X_test.shape)\n",
    "print(\"y_test shape: \", y_test.shape)"
   ]
  },
  {
   "cell_type": "code",
   "execution_count": 11,
   "id": "e6924630a81de59e",
   "metadata": {
    "ExecuteTime": {
     "end_time": "2024-11-28T20:16:33.338139600Z",
     "start_time": "2024-11-28T20:16:33.298944200Z"
    },
    "collapsed": false
   },
   "outputs": [
    {
     "name": "stderr",
     "output_type": "stream",
     "text": [
      "C:\\Users\\ishar\\AppData\\Local\\Temp\\ipykernel_380632\\3302728821.py:2: UserWarning: Boolean Series key will be reindexed to match DataFrame index.\n",
      "  holiday_data = X_test[df['IsHoliday'] == True]\n",
      "C:\\Users\\ishar\\AppData\\Local\\Temp\\ipykernel_380632\\3302728821.py:3: UserWarning: Boolean Series key will be reindexed to match DataFrame index.\n",
      "  non_holiday_data = X_test[df['IsHoliday'] == False]\n"
     ]
    }
   ],
   "source": [
    "# Split the test dataset by holiday and non-holiday\n",
    "holiday_data = X_test[df['IsHoliday'] == True]\n",
    "non_holiday_data = X_test[df['IsHoliday'] == False]\n",
    "\n",
    "holiday_target = y_test[df['IsHoliday'] == True]\n",
    "non_holiday_target = y_test[df['IsHoliday'] == False]\n"
   ]
  },
  {
   "cell_type": "code",
   "execution_count": 12,
   "id": "a02bab56b960e1eb",
   "metadata": {
    "ExecuteTime": {
     "end_time": "2024-11-28T20:16:33.339143Z",
     "start_time": "2024-11-28T20:16:33.312972500Z"
    },
    "collapsed": false
   },
   "outputs": [],
   "source": [
    "def evaluate_bias_fairness(model, X_test, y_test, holiday_data, holiday_target, non_holiday_data, non_holiday_target):\n",
    "    # Predict on full test data\n",
    "    y_pred = model.predict(X_test)\n",
    "    \n",
    "    # Predict on holiday and non-holiday data\n",
    "    holiday_pred = model.predict(holiday_data)\n",
    "    non_holiday_pred = model.predict(non_holiday_data)\n",
    "    \n",
    "    # Metrics for full data\n",
    "    mae = mean_absolute_error(y_test, y_pred)\n",
    "    rmse = np.sqrt(mean_squared_error(y_test, y_pred))\n",
    "    \n",
    "    # Metrics for holiday and non-holiday subgroups\n",
    "    holiday_mae = mean_absolute_error(holiday_target, holiday_pred)\n",
    "    holiday_rmse = np.sqrt(mean_squared_error(holiday_target, holiday_pred))\n",
    "    \n",
    "    non_holiday_mae = mean_absolute_error(non_holiday_target, non_holiday_pred)\n",
    "    non_holiday_rmse = np.sqrt(mean_squared_error(non_holiday_target, non_holiday_pred))\n",
    "    \n",
    "    # Compile results\n",
    "    results = {\n",
    "        'Full Data': {'MAE': mae, 'RMSE': rmse},\n",
    "        'Holiday': {'MAE': holiday_mae, 'RMSE': holiday_rmse},\n",
    "        'Non-Holiday': {'MAE': non_holiday_mae, 'RMSE': non_holiday_rmse}\n",
    "    }\n",
    "    \n",
    "    return results\n"
   ]
  },
  {
   "cell_type": "code",
   "execution_count": 13,
   "id": "fdcfc2e3578d333c",
   "metadata": {
    "ExecuteTime": {
     "end_time": "2024-11-28T20:16:33.339143Z",
     "start_time": "2024-11-28T20:16:33.316262200Z"
    },
    "collapsed": false
   },
   "outputs": [],
   "source": [
    "best_dt_model = DecisionTreeRegressor(\n",
    "    random_state=42,\n",
    "    max_depth=None,\n",
    "    min_samples_leaf=4,\n",
    "    min_samples_split=10\n",
    ")\n",
    "\n",
    "best_rf_model = RandomForestRegressor(random_state=42, n_estimators=200, min_samples_split=2)\n",
    "\n",
    "best_xgb_model = XGBRegressor(\n",
    "    objective='reg:squarederror',\n",
    "    colsample_bytree=0.8,\n",
    "    n_estimators=300,     \n",
    "    learning_rate=0.2,  \n",
    "    max_depth=6,\n",
    "    random_state=42,\n",
    "    min_child_weight= 5,\n",
    "    subsample=1\n",
    ")"
   ]
  },
  {
   "cell_type": "code",
   "execution_count": 14,
   "id": "f0b641931980998b",
   "metadata": {
    "ExecuteTime": {
     "end_time": "2024-11-28T20:22:30.582016200Z",
     "start_time": "2024-11-28T20:16:33.325636Z"
    },
    "collapsed": false
   },
   "outputs": [
    {
     "name": "stdout",
     "output_type": "stream",
     "text": [
      "Decision Tree Bias and Fairness Results: {'Full Data': {'MAE': 1599.5171001705667, 'RMSE': 3916.3132077851137}, 'Holiday': {'MAE': 2583.2004530476406, 'RMSE': 6746.032589700221}, 'Non-Holiday': {'MAE': 1525.9094255020102, 'RMSE': 3616.6035477663877}}\n",
      "Random Forest Bias and Fairness Results: {'Full Data': {'MAE': 1290.624812325833, 'RMSE': 3195.258480409026}, 'Holiday': {'MAE': 2158.318269688942, 'RMSE': 6308.534063713494}, 'Non-Holiday': {'MAE': 1225.696502280924, 'RMSE': 2827.6585602430364}}\n",
      "XGBoost Bias and Fairness Results: {'Full Data': {'MAE': 2459.494710272872, 'RMSE': 4430.2437544462355}, 'Holiday': {'MAE': 3196.1603208054294, 'RMSE': 7405.080627281897}, 'Non-Holiday': {'MAE': 2404.3710341010647, 'RMSE': 4122.193772716701}}\n"
     ]
    }
   ],
   "source": [
    "# Evaluate Decision Tree\n",
    "best_dt_model.fit(X_train, y_train)\n",
    "dt_results = evaluate_bias_fairness(best_dt_model, X_test, y_test, holiday_data, holiday_target, non_holiday_data, non_holiday_target)\n",
    "print(\"Decision Tree Bias and Fairness Results:\", dt_results)\n",
    "\n",
    "# Evaluate Random Forest\n",
    "best_rf_model.fit(X_train, y_train)\n",
    "rf_results = evaluate_bias_fairness(best_rf_model, X_test, y_test, holiday_data, holiday_target, non_holiday_data, non_holiday_target)\n",
    "print(\"Random Forest Bias and Fairness Results:\", rf_results)\n",
    "\n",
    "# Evaluate XGBoost\n",
    "best_xgb_model.fit(X_train, y_train)\n",
    "xgb_results = evaluate_bias_fairness(best_xgb_model, X_test, y_test, holiday_data, holiday_target, non_holiday_data, non_holiday_target)\n",
    "print(\"XGBoost Bias and Fairness Results:\", xgb_results)\n"
   ]
  },
  {
   "cell_type": "code",
   "execution_count": 15,
   "id": "dd258a827877157",
   "metadata": {
    "ExecuteTime": {
     "end_time": "2024-11-28T20:22:30.589648400Z",
     "start_time": "2024-11-28T20:22:30.577017700Z"
    },
    "collapsed": false
   },
   "outputs": [
    {
     "name": "stdout",
     "output_type": "stream",
     "text": [
      "           Model  Full Data MAE  Full Data RMSE  Holiday MAE  Holiday RMSE  \\\n",
      "0  Decision Tree    1599.517100     3916.313208  2583.200453   6746.032590   \n",
      "1  Random Forest    1290.624812     3195.258480  2158.318270   6308.534064   \n",
      "2        XGBoost    2459.494710     4430.243754  3196.160321   7405.080627   \n",
      "\n",
      "   Non-Holiday MAE  Non-Holiday RMSE  \n",
      "0      1525.909426       3616.603548  \n",
      "1      1225.696502       2827.658560  \n",
      "2      2404.371034       4122.193773  \n"
     ]
    }
   ],
   "source": [
    "# Combine results into a DataFrame\n",
    "bias_fairness_results = pd.DataFrame({\n",
    "    'Model': ['Decision Tree', 'Random Forest', 'XGBoost'],\n",
    "    'Full Data MAE': [dt_results['Full Data']['MAE'], rf_results['Full Data']['MAE'], xgb_results['Full Data']['MAE']],\n",
    "    'Full Data RMSE': [dt_results['Full Data']['RMSE'], rf_results['Full Data']['RMSE'], xgb_results['Full Data']['RMSE']],\n",
    "    'Holiday MAE': [dt_results['Holiday']['MAE'], rf_results['Holiday']['MAE'], xgb_results['Holiday']['MAE']],\n",
    "    'Holiday RMSE': [dt_results['Holiday']['RMSE'], rf_results['Holiday']['RMSE'], xgb_results['Holiday']['RMSE']],\n",
    "    'Non-Holiday MAE': [dt_results['Non-Holiday']['MAE'], rf_results['Non-Holiday']['MAE'], xgb_results['Non-Holiday']['MAE']],\n",
    "    'Non-Holiday RMSE': [dt_results['Non-Holiday']['RMSE'], rf_results['Non-Holiday']['RMSE'], xgb_results['Non-Holiday']['RMSE']]\n",
    "})\n",
    "\n",
    "# Display the results\n",
    "print(bias_fairness_results)\n"
   ]
  },
  {
   "cell_type": "code",
   "execution_count": 19,
   "id": "268b52f217572162",
   "metadata": {
    "ExecuteTime": {
     "end_time": "2024-12-03T07:01:37.331387500Z",
     "start_time": "2024-12-03T07:01:37.240671Z"
    },
    "collapsed": false
   },
   "outputs": [
    {
     "data": {
      "image/png": "[encoded data removed]",
      "text/plain": [
       "<Figure size 1000x600 with 1 Axes>"
      ]
     },
     "metadata": {},
     "output_type": "display_data"
    }
   ],
   "source": [
    "# Data setup (Manually copy-pasted above output values as I cleaned the session and it takes time to execute all models)\n",
    "models = ['Decision Tree', 'Random Forest', 'XGBoost Regressor']\n",
    "metrics = ['Holiday MAE', 'Non-Holiday MAE', 'Holiday RMSE', 'Non-Holiday RMSE']\n",
    "values = [\n",
    "    [2583.20, 1525.91, 6746.03, 3616.60],  # Decision Tree\n",
    "    [2158.32, 1225.70, 6308.53, 2827.66],  # Random Forest\n",
    "    [3196.16, 2404.37, 7405.08, 4122.19]   # XGBoost Regressor\n",
    "]\n",
    "values = np.array(values)\n",
    "\n",
    "# Define plot parameters\n",
    "bar_width = 0.2\n",
    "x_indices = np.arange(len(metrics))\n",
    "\n",
    "# Create a grouped bar plot\n",
    "plt.figure(figsize=(10, 6))\n",
    "\n",
    "for i, model in enumerate(models):\n",
    "    plt.bar(\n",
    "        x_indices + i * bar_width,\n",
    "        values[i],\n",
    "        width=bar_width,\n",
    "        label=model\n",
    "    )\n",
    "\n",
    "# Customization\n",
    "plt.xticks(x_indices + bar_width, metrics, fontsize=10)\n",
    "plt.ylabel('Error Values', fontsize=12)\n",
    "plt.xlabel('Metrics For Holiday & Non-Holiday Groups', fontsize=12)\n",
    "# plt.title('Comparison of MAE and RMSE Across Models', fontsize=14)\n",
    "plt.legend(title='Model', loc='upper right', fontsize=10)\n",
    "plt.tight_layout()\n",
    "plt.show()\n"
   ]
  }
 ],
 "metadata": {
  "kernelspec": {
   "display_name": "Python 3 (ipykernel)",
   "language": "python",
   "name": "python3"
  },
  "language_info": {
   "codemirror_mode": {
    "name": "ipython",
    "version": 3
   },
   "file_extension": ".py",
   "mimetype": "text/x-python",
   "name": "python",
   "nbconvert_exporter": "python",
   "pygments_lexer": "ipython3",
   "version": "3.11.6"
  }
 },
 "nbformat": 4,
 "nbformat_minor": 5
}
