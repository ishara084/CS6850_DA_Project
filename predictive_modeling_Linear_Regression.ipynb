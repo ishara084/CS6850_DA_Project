{
 "cells": [
  {
   "cell_type": "code",
   "execution_count": 1,
   "outputs": [],
   "source": [
    "import pandas as pd\n",
    "import numpy as np\n",
    "from sklearn.linear_model import LinearRegression\n",
    "from sklearn.metrics import mean_squared_error, mean_absolute_error, r2_score\n",
    "\n",
    "# Custom libraries/methods\n",
    "from libs import split_data, evaluate_model"
   ],
   "metadata": {
    "collapsed": false,
    "ExecuteTime": {
     "end_time": "2024-12-04T08:19:42.287258300Z",
     "start_time": "2024-12-04T08:19:41.240313500Z"
    }
   },
   "id": "a04d7509474e0471"
  },
  {
   "cell_type": "code",
   "execution_count": 2,
   "outputs": [
    {
     "data": {
      "text/plain": "   Store  Temperature  Fuel_Price       CPI  Unemployment  IsHoliday  Dept  \\\n0      1    -0.963831    -1.72052  1.018422      0.078331      False     1   \n1      1    -0.963831    -1.72052  1.018422      0.078331      False     2   \n2      1    -0.963831    -1.72052  1.018422      0.078331      False     3   \n3      1    -0.963831    -1.72052  1.018422      0.078331      False     4   \n4      1    -0.963831    -1.72052  1.018422      0.078331      False     5   \n\n   Weekly_Sales  Store_Size  Year  Month  Day  Week  Store_Type_A  \\\n0      24924.50    0.238802  2010      2    5     5          True   \n1      50605.27    0.238802  2010      2    5     5          True   \n2      13740.12    0.238802  2010      2    5     5          True   \n3      39954.04    0.238802  2010      2    5     5          True   \n4      32229.38    0.238802  2010      2    5     5          True   \n\n   Store_Type_B  Store_Type_C  \n0         False         False  \n1         False         False  \n2         False         False  \n3         False         False  \n4         False         False  ",
      "text/html": "<div>\n<style scoped>\n    .dataframe tbody tr th:only-of-type {\n        vertical-align: middle;\n    }\n\n    .dataframe tbody tr th {\n        vertical-align: top;\n    }\n\n    .dataframe thead th {\n        text-align: right;\n    }\n</style>\n<table border=\"1\" class=\"dataframe\">\n  <thead>\n    <tr style=\"text-align: right;\">\n      <th></th>\n      <th>Store</th>\n      <th>Temperature</th>\n      <th>Fuel_Price</th>\n      <th>CPI</th>\n      <th>Unemployment</th>\n      <th>IsHoliday</th>\n      <th>Dept</th>\n      <th>Weekly_Sales</th>\n      <th>Store_Size</th>\n      <th>Year</th>\n      <th>Month</th>\n      <th>Day</th>\n      <th>Week</th>\n      <th>Store_Type_A</th>\n      <th>Store_Type_B</th>\n      <th>Store_Type_C</th>\n    </tr>\n  </thead>\n  <tbody>\n    <tr>\n      <th>0</th>\n      <td>1</td>\n      <td>-0.963831</td>\n      <td>-1.72052</td>\n      <td>1.018422</td>\n      <td>0.078331</td>\n      <td>False</td>\n      <td>1</td>\n      <td>24924.50</td>\n      <td>0.238802</td>\n      <td>2010</td>\n      <td>2</td>\n      <td>5</td>\n      <td>5</td>\n      <td>True</td>\n      <td>False</td>\n      <td>False</td>\n    </tr>\n    <tr>\n      <th>1</th>\n      <td>1</td>\n      <td>-0.963831</td>\n      <td>-1.72052</td>\n      <td>1.018422</td>\n      <td>0.078331</td>\n      <td>False</td>\n      <td>2</td>\n      <td>50605.27</td>\n      <td>0.238802</td>\n      <td>2010</td>\n      <td>2</td>\n      <td>5</td>\n      <td>5</td>\n      <td>True</td>\n      <td>False</td>\n      <td>False</td>\n    </tr>\n    <tr>\n      <th>2</th>\n      <td>1</td>\n      <td>-0.963831</td>\n      <td>-1.72052</td>\n      <td>1.018422</td>\n      <td>0.078331</td>\n      <td>False</td>\n      <td>3</td>\n      <td>13740.12</td>\n      <td>0.238802</td>\n      <td>2010</td>\n      <td>2</td>\n      <td>5</td>\n      <td>5</td>\n      <td>True</td>\n      <td>False</td>\n      <td>False</td>\n    </tr>\n    <tr>\n      <th>3</th>\n      <td>1</td>\n      <td>-0.963831</td>\n      <td>-1.72052</td>\n      <td>1.018422</td>\n      <td>0.078331</td>\n      <td>False</td>\n      <td>4</td>\n      <td>39954.04</td>\n      <td>0.238802</td>\n      <td>2010</td>\n      <td>2</td>\n      <td>5</td>\n      <td>5</td>\n      <td>True</td>\n      <td>False</td>\n      <td>False</td>\n    </tr>\n    <tr>\n      <th>4</th>\n      <td>1</td>\n      <td>-0.963831</td>\n      <td>-1.72052</td>\n      <td>1.018422</td>\n      <td>0.078331</td>\n      <td>False</td>\n      <td>5</td>\n      <td>32229.38</td>\n      <td>0.238802</td>\n      <td>2010</td>\n      <td>2</td>\n      <td>5</td>\n      <td>5</td>\n      <td>True</td>\n      <td>False</td>\n      <td>False</td>\n    </tr>\n  </tbody>\n</table>\n</div>"
     },
     "execution_count": 2,
     "metadata": {},
     "output_type": "execute_result"
    }
   ],
   "source": [
    "# Load dataset\n",
    "df = pd.read_csv(\"data/preprocessed/main_ML_ready.csv\")\n",
    "df.head()"
   ],
   "metadata": {
    "collapsed": false,
    "ExecuteTime": {
     "end_time": "2024-12-04T08:19:42.658067400Z",
     "start_time": "2024-12-04T08:19:42.287258300Z"
    }
   },
   "id": "c1e12d75e4a1832a"
  },
  {
   "cell_type": "markdown",
   "source": [
    "### Split Data"
   ],
   "metadata": {
    "collapsed": false
   },
   "id": "4c3389d7357ca93"
  },
  {
   "cell_type": "code",
   "execution_count": 3,
   "outputs": [
    {
     "name": "stdout",
     "output_type": "stream",
     "text": [
      "X_train shape:  (336169, 15)\n",
      "y_train shape:  (336169,)\n",
      "X_test shape:  (84043, 15)\n",
      "y_test shape:  (84043,)\n"
     ]
    }
   ],
   "source": [
    "# Split the data\n",
    "X_train, X_test, y_train, y_test = split_data(df, target_column=\"Weekly_Sales\")\n",
    "print(\"X_train shape: \", X_train.shape)\n",
    "print(\"y_train shape: \", y_train.shape)\n",
    "print(\"X_test shape: \", X_test.shape)\n",
    "print(\"y_test shape: \", y_test.shape)"
   ],
   "metadata": {
    "collapsed": false,
    "ExecuteTime": {
     "end_time": "2024-12-04T08:19:42.761736Z",
     "start_time": "2024-12-04T08:19:42.654065200Z"
    }
   },
   "id": "d8d339cfd7809251"
  },
  {
   "cell_type": "markdown",
   "source": [
    "# Linear Regression model (As the base model)"
   ],
   "metadata": {
    "collapsed": false
   },
   "id": "5a1ca6ba10b26701"
  },
  {
   "cell_type": "markdown",
   "source": [
    "### Train Linear Regression model"
   ],
   "metadata": {
    "collapsed": false
   },
   "id": "6c2e2be4e76a0182"
  },
  {
   "cell_type": "code",
   "execution_count": 9,
   "outputs": [
    {
     "name": "stdout",
     "output_type": "stream",
     "text": [
      "Mean Absolute Error (MAE): 14599.45\n",
      "Root Mean Squared Error (RMSE): 21591.38\n",
      "R² Score: 0.09\n",
      "Weighted Mean Absolute Error (WMAE): 14820.82\n"
     ]
    }
   ],
   "source": [
    "# Train the Linear Regression model\n",
    "lr = LinearRegression()\n",
    "lr.fit(X_train, y_train)\n",
    "\n",
    "# Make predictions on the test set\n",
    "y_pred = lr.predict(X_test)\n",
    "\n",
    "# Calculate evaluation metrics\n",
    "is_holiday_test = df.loc[X_test.index, 'IsHoliday']\n",
    "evaluate_model(y_test, y_pred, is_holiday_test)"
   ],
   "metadata": {
    "collapsed": false,
    "ExecuteTime": {
     "end_time": "2024-12-04T08:22:02.379849600Z",
     "start_time": "2024-12-04T08:22:02.283476900Z"
    }
   },
   "id": "9d857bc93251bb24"
  }
 ],
 "metadata": {
  "kernelspec": {
   "display_name": "Python 3 (ipykernel)",
   "language": "python",
   "name": "python3"
  },
  "language_info": {
   "codemirror_mode": {
    "name": "ipython",
    "version": 3
   },
   "file_extension": ".py",
   "mimetype": "text/x-python",
   "name": "python",
   "nbconvert_exporter": "python",
   "pygments_lexer": "ipython3",
   "version": "3.11.6"
  }
 },
 "nbformat": 4,
 "nbformat_minor": 5
}
