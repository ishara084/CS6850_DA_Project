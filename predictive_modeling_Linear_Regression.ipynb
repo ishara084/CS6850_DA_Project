{
 "cells": [
  {
   "cell_type": "code",
   "execution_count": 11,
   "outputs": [],
   "source": [
    "import pandas as pd\n",
    "import numpy as np\n",
    "from sklearn.linear_model import LinearRegression\n",
    "from sklearn.metrics import mean_squared_error, mean_absolute_error, r2_score\n",
    "\n",
    "# Custom libraries/methods\n",
    "from libs import split_data, evaluate_model"
   ],
   "metadata": {
    "collapsed": false,
    "ExecuteTime": {
     "end_time": "2024-12-07T03:22:05.171609100Z",
     "start_time": "2024-12-07T03:22:05.151884800Z"
    }
   },
   "id": "a04d7509474e0471"
  },
  {
   "cell_type": "code",
   "execution_count": 12,
   "outputs": [
    {
     "data": {
      "text/plain": "   Temperature  Fuel_Price       CPI  Unemployment  IsHoliday  Dept  \\\n0    -0.963831    -1.72052  1.018422      0.078331      False     1   \n1    -0.963831    -1.72052  1.018422      0.078331      False     2   \n2    -0.963831    -1.72052  1.018422      0.078331      False     3   \n3    -0.963831    -1.72052  1.018422      0.078331      False     4   \n4    -0.963831    -1.72052  1.018422      0.078331      False     5   \n\n   Weekly_Sales  Store_Size  Month  Day  ...  Store_36  Store_37  Store_38  \\\n0      24924.50    0.238802      2    5  ...     False     False     False   \n1      50605.27    0.238802      2    5  ...     False     False     False   \n2      13740.12    0.238802      2    5  ...     False     False     False   \n3      39954.04    0.238802      2    5  ...     False     False     False   \n4      32229.38    0.238802      2    5  ...     False     False     False   \n\n   Store_39  Store_40  Store_41  Store_42  Store_43  Store_44  Store_45  \n0     False     False     False     False     False     False     False  \n1     False     False     False     False     False     False     False  \n2     False     False     False     False     False     False     False  \n3     False     False     False     False     False     False     False  \n4     False     False     False     False     False     False     False  \n\n[5 rows x 59 columns]",
      "text/html": "<div>\n<style scoped>\n    .dataframe tbody tr th:only-of-type {\n        vertical-align: middle;\n    }\n\n    .dataframe tbody tr th {\n        vertical-align: top;\n    }\n\n    .dataframe thead th {\n        text-align: right;\n    }\n</style>\n<table border=\"1\" class=\"dataframe\">\n  <thead>\n    <tr style=\"text-align: right;\">\n      <th></th>\n      <th>Temperature</th>\n      <th>Fuel_Price</th>\n      <th>CPI</th>\n      <th>Unemployment</th>\n      <th>IsHoliday</th>\n      <th>Dept</th>\n      <th>Weekly_Sales</th>\n      <th>Store_Size</th>\n      <th>Month</th>\n      <th>Day</th>\n      <th>...</th>\n      <th>Store_36</th>\n      <th>Store_37</th>\n      <th>Store_38</th>\n      <th>Store_39</th>\n      <th>Store_40</th>\n      <th>Store_41</th>\n      <th>Store_42</th>\n      <th>Store_43</th>\n      <th>Store_44</th>\n      <th>Store_45</th>\n    </tr>\n  </thead>\n  <tbody>\n    <tr>\n      <th>0</th>\n      <td>-0.963831</td>\n      <td>-1.72052</td>\n      <td>1.018422</td>\n      <td>0.078331</td>\n      <td>False</td>\n      <td>1</td>\n      <td>24924.50</td>\n      <td>0.238802</td>\n      <td>2</td>\n      <td>5</td>\n      <td>...</td>\n      <td>False</td>\n      <td>False</td>\n      <td>False</td>\n      <td>False</td>\n      <td>False</td>\n      <td>False</td>\n      <td>False</td>\n      <td>False</td>\n      <td>False</td>\n      <td>False</td>\n    </tr>\n    <tr>\n      <th>1</th>\n      <td>-0.963831</td>\n      <td>-1.72052</td>\n      <td>1.018422</td>\n      <td>0.078331</td>\n      <td>False</td>\n      <td>2</td>\n      <td>50605.27</td>\n      <td>0.238802</td>\n      <td>2</td>\n      <td>5</td>\n      <td>...</td>\n      <td>False</td>\n      <td>False</td>\n      <td>False</td>\n      <td>False</td>\n      <td>False</td>\n      <td>False</td>\n      <td>False</td>\n      <td>False</td>\n      <td>False</td>\n      <td>False</td>\n    </tr>\n    <tr>\n      <th>2</th>\n      <td>-0.963831</td>\n      <td>-1.72052</td>\n      <td>1.018422</td>\n      <td>0.078331</td>\n      <td>False</td>\n      <td>3</td>\n      <td>13740.12</td>\n      <td>0.238802</td>\n      <td>2</td>\n      <td>5</td>\n      <td>...</td>\n      <td>False</td>\n      <td>False</td>\n      <td>False</td>\n      <td>False</td>\n      <td>False</td>\n      <td>False</td>\n      <td>False</td>\n      <td>False</td>\n      <td>False</td>\n      <td>False</td>\n    </tr>\n    <tr>\n      <th>3</th>\n      <td>-0.963831</td>\n      <td>-1.72052</td>\n      <td>1.018422</td>\n      <td>0.078331</td>\n      <td>False</td>\n      <td>4</td>\n      <td>39954.04</td>\n      <td>0.238802</td>\n      <td>2</td>\n      <td>5</td>\n      <td>...</td>\n      <td>False</td>\n      <td>False</td>\n      <td>False</td>\n      <td>False</td>\n      <td>False</td>\n      <td>False</td>\n      <td>False</td>\n      <td>False</td>\n      <td>False</td>\n      <td>False</td>\n    </tr>\n    <tr>\n      <th>4</th>\n      <td>-0.963831</td>\n      <td>-1.72052</td>\n      <td>1.018422</td>\n      <td>0.078331</td>\n      <td>False</td>\n      <td>5</td>\n      <td>32229.38</td>\n      <td>0.238802</td>\n      <td>2</td>\n      <td>5</td>\n      <td>...</td>\n      <td>False</td>\n      <td>False</td>\n      <td>False</td>\n      <td>False</td>\n      <td>False</td>\n      <td>False</td>\n      <td>False</td>\n      <td>False</td>\n      <td>False</td>\n      <td>False</td>\n    </tr>\n  </tbody>\n</table>\n<p>5 rows × 59 columns</p>\n</div>"
     },
     "execution_count": 12,
     "metadata": {},
     "output_type": "execute_result"
    }
   ],
   "source": [
    "# Load dataset\n",
    "df = pd.read_csv(\"data/preprocessed/main_ML_ready.csv\")\n",
    "df.head()"
   ],
   "metadata": {
    "collapsed": false,
    "ExecuteTime": {
     "end_time": "2024-12-07T03:22:06.304248900Z",
     "start_time": "2024-12-07T03:22:05.154745800Z"
    }
   },
   "id": "c1e12d75e4a1832a"
  },
  {
   "cell_type": "markdown",
   "source": [
    "### Split Data"
   ],
   "metadata": {
    "collapsed": false
   },
   "id": "4c3389d7357ca93"
  },
  {
   "cell_type": "code",
   "execution_count": 13,
   "outputs": [
    {
     "name": "stdout",
     "output_type": "stream",
     "text": [
      "X_train shape:  (336169, 58)\n",
      "y_train shape:  (336169,)\n",
      "X_test shape:  (84043, 58)\n",
      "y_test shape:  (84043,)\n"
     ]
    }
   ],
   "source": [
    "# Split the data\n",
    "X_train, X_test, y_train, y_test = split_data(df, target_column=\"Weekly_Sales\")\n",
    "print(\"X_train shape: \", X_train.shape)\n",
    "print(\"y_train shape: \", y_train.shape)\n",
    "print(\"X_test shape: \", X_test.shape)\n",
    "print(\"y_test shape: \", y_test.shape)"
   ],
   "metadata": {
    "collapsed": false,
    "ExecuteTime": {
     "end_time": "2024-12-07T03:22:06.396362300Z",
     "start_time": "2024-12-07T03:22:06.304248900Z"
    }
   },
   "id": "d8d339cfd7809251"
  },
  {
   "cell_type": "markdown",
   "source": [
    "# Linear Regression model (As the base model)"
   ],
   "metadata": {
    "collapsed": false
   },
   "id": "5a1ca6ba10b26701"
  },
  {
   "cell_type": "markdown",
   "source": [
    "### Train Linear Regression model and predict"
   ],
   "metadata": {
    "collapsed": false
   },
   "id": "6c2e2be4e76a0182"
  },
  {
   "cell_type": "code",
   "execution_count": 14,
   "outputs": [
    {
     "name": "stdout",
     "output_type": "stream",
     "text": [
      "Mean Absolute Error (MAE): 14387.27\n",
      "Root Mean Squared Error (RMSE): 21277.06\n",
      "R² Score: 0.12\n",
      "Weighted Mean Absolute Error (WMAE): 14604.06\n"
     ]
    }
   ],
   "source": [
    "# Train the Linear Regression model\n",
    "lr = LinearRegression()\n",
    "lr.fit(X_train, y_train)\n",
    "\n",
    "# Make predictions on the test set\n",
    "y_pred = lr.predict(X_test)\n",
    "\n",
    "# Calculate evaluation metrics\n",
    "is_holiday_test = df.loc[X_test.index, 'IsHoliday']\n",
    "evaluate_model(y_test, y_pred, is_holiday_test)"
   ],
   "metadata": {
    "collapsed": false,
    "ExecuteTime": {
     "end_time": "2024-12-07T03:22:07.041260300Z",
     "start_time": "2024-12-07T03:22:06.385363600Z"
    }
   },
   "id": "9d857bc93251bb24"
  }
 ],
 "metadata": {
  "kernelspec": {
   "display_name": "Python 3 (ipykernel)",
   "language": "python",
   "name": "python3"
  },
  "language_info": {
   "codemirror_mode": {
    "name": "ipython",
    "version": 3
   },
   "file_extension": ".py",
   "mimetype": "text/x-python",
   "name": "python",
   "nbconvert_exporter": "python",
   "pygments_lexer": "ipython3",
   "version": "3.11.6"
  }
 },
 "nbformat": 4,
 "nbformat_minor": 5
}
